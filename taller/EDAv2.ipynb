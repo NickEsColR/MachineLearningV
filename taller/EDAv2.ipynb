{
  "nbformat": 4,
  "nbformat_minor": 0,
  "metadata": {
    "colab": {
      "private_outputs": true,
      "provenance": [],
      "gpuType": "T4",
      "include_colab_link": true
    },
    "kernelspec": {
      "name": "python3",
      "display_name": "Python 3"
    },
    "language_info": {
      "name": "python"
    },
    "accelerator": "GPU"
  },
  "cells": [
    {
      "cell_type": "markdown",
      "metadata": {
        "id": "view-in-github",
        "colab_type": "text"
      },
      "source": [
        "<a href=\"https://colab.research.google.com/github/cam2149/MachineLearningV/blob/main/taller/EDAv2.ipynb\" target=\"_parent\"><img src=\"https://colab.research.google.com/assets/colab-badge.svg\" alt=\"Open In Colab\"/></a>"
      ]
    },
    {
      "cell_type": "markdown",
      "source": [
        "**Equipo**\n",
        "\n",
        "- Nicolás Colmenares\n",
        "\n",
        "- Carlos Martinez"
      ],
      "metadata": {
        "id": "Ckrr43Eb7-jD"
      }
    },
    {
      "cell_type": "markdown",
      "source": [
        "1. Análisis Exploratorio de Datos (EDA) - 0.5 pts\n",
        "\n",
        "  -  Carga y limpieza de los datos.\n",
        "\n",
        "  - Visualización de tendencias y patrones de dengue.\n",
        "\n",
        "  -  Análisis de correlaciones entre variables."
      ],
      "metadata": {
        "id": "eNJUawM57uzy"
      }
    },
    {
      "cell_type": "markdown",
      "source": [
        "**Situación:**\n",
        "Una ciudad enfrenta un aumento significativo de casos de dengue, con una tasa de incidencia que supera el promedio nacional.\n",
        "La anticipación de brotes es crucial para implementar medidas preventivas y reducir la propagación de la enfermedad.\n",
        "\n",
        "**Objetivo:**\n",
        "Desarrollar un modelo predictivo utilizando redes neuronales para pronosticar futuros brotes de dengue en cada barrio de la ciudad.\n",
        "Utilizar una base de datos histórica de casos de dengue desde 2015 hasta 2022 para entrenar el modelo.\n",
        "Anticiparse a los brotes con al menos 3 semanas de anticipación.\n",
        "\n",
        "**Finalidad:**\n",
        "Permitir a las autoridades de salud pública tomar acciones oportunas, como:\n",
        "Preparar a las instituciones prestadoras de salud (IPS).\n",
        "Gestionar recursos (carros fumigadores, limpieza de sumideros).\n",
        "Capacitar a la comunidad."
      ],
      "metadata": {
        "id": "zQ9T88GEx2Qt"
      }
    },
    {
      "cell_type": "markdown",
      "source": [
        "*   Análisis exploratorio de datos de la serie temporal\n",
        "*   Explicar el comportamiento de la serie temporal en términos cualitativos y cuantitativos para desarrollar intuición para la selección del modelo\n",
        "*    Identificar los modelos candidatos y los posibles parámetros del modelo que se pueden utilizar basándose en los hallazgos del análisis exploratorio de datos"
      ],
      "metadata": {
        "id": "dVtVgKGCyXfH"
      }
    },
    {
      "cell_type": "markdown",
      "source": [
        "# 0. Configuraciones de Colab"
      ],
      "metadata": {
        "id": "l9U_uqnvvYtf"
      }
    },
    {
      "cell_type": "markdown",
      "source": [
        "Mover Kaggle.json a la ubicación correcta después de subirlo"
      ],
      "metadata": {
        "id": "zi1MbjLG81SQ"
      }
    },
    {
      "source": [
        "#Estas líneas son comandos de shell que se ejecutan dentro del Jupyter notebook. Se usan para configurar las credenciales de la API de Kaggle, que son necesarias para descargar conjuntos de datos (datasets) desde Kaggle.\n",
        "\n",
        "!mkdir -p ~/.kaggle\n",
        "!mv kaggle.json ~/.kaggle/\n",
        "!chmod 600 ~/.kaggle/kaggle.json"
      ],
      "cell_type": "code",
      "metadata": {
        "id": "FkW9-t478uLh"
      },
      "execution_count": null,
      "outputs": []
    },
    {
      "cell_type": "code",
      "source": [
        "!rm -rf /content/kaggle/output\n",
        "!rm -rf /content/kaggle/input"
      ],
      "metadata": {
        "id": "-YMKmQruoaHz"
      },
      "execution_count": null,
      "outputs": []
    },
    {
      "cell_type": "markdown",
      "source": [
        "Descargar dataset de la competencia"
      ],
      "metadata": {
        "id": "VWH9Y2UG9KLD"
      }
    },
    {
      "source": [
        "!kaggle competitions download -c aa-v-2025-i-pronosticos-nn-rnn-cnn"
      ],
      "cell_type": "code",
      "metadata": {
        "id": "SnUZl0d-8_Cj"
      },
      "execution_count": null,
      "outputs": []
    },
    {
      "cell_type": "code",
      "source": [
        "!mkdir -p /content/kaggle/output\n",
        "!mkdir -p /content/kaggle/input"
      ],
      "metadata": {
        "id": "vaLprrm32zGg"
      },
      "execution_count": null,
      "outputs": []
    },
    {
      "cell_type": "code",
      "source": [
        "!mv aa-v-2025-i-pronosticos-nn-rnn-cnn.zip /content/kaggle/input"
      ],
      "metadata": {
        "id": "s07nq5K1zyuN"
      },
      "execution_count": null,
      "outputs": []
    },
    {
      "cell_type": "code",
      "source": [
        "!unzip /content/kaggle/input/aa-v-2025-i-pronosticos-nn-rnn-cnn.zip -d /content/kaggle/input/"
      ],
      "metadata": {
        "id": "skxqP_oq0VeN"
      },
      "execution_count": null,
      "outputs": []
    },
    {
      "cell_type": "code",
      "source": [
        "# Input data files are available in the read-only \"../input/\" directory\n",
        "# For example, running this (by clicking run or pressing Shift+Enter) will list all files under the input directory\n",
        "#/kaggle/input\n",
        "import os\n",
        "for dirname, _, filenames in os.walk('/content/kaggle/input'):\n",
        "    for filename in filenames:\n",
        "        print(os.path.join(dirname, filename))\n"
      ],
      "metadata": {
        "id": "0m2oYgGOxJue"
      },
      "execution_count": null,
      "outputs": []
    },
    {
      "cell_type": "markdown",
      "source": [
        "# 1. Imports"
      ],
      "metadata": {
        "id": "FiQLr9h-0Cr7"
      }
    },
    {
      "cell_type": "code",
      "source": [
        "!pip install altair"
      ],
      "metadata": {
        "id": "10HK-Am92SqH"
      },
      "execution_count": null,
      "outputs": []
    },
    {
      "cell_type": "code",
      "source": [
        "import numpy as np # linear algebra\n",
        "import pandas as pd # data processing, CSV file I/O (e.g. pd.read_csv)\n",
        "import altair as alt\n",
        "import matplotlib as mpl\n",
        "import matplotlib.pyplot as plt   # data visualization\n",
        "import seaborn as sns\n",
        "import statsmodels.api as sm\n",
        "import scipy\n",
        "from scipy.stats import anderson\n",
        "from matplotlib.colors import LinearSegmentedColormap"
      ],
      "metadata": {
        "id": "MO0sH9aq9VlV"
      },
      "execution_count": null,
      "outputs": []
    },
    {
      "cell_type": "code",
      "source": [
        "#Printing library versions\n",
        "print('Pandas:', pd.__version__)\n",
        "print('Statsmodels:', sm.__version__)\n",
        "print('Scipy:', scipy.__version__)\n",
        "print('Matplotlib:', mpl.__version__)\n",
        "print('Seaborn:', sns.__version__)"
      ],
      "metadata": {
        "id": "0AXL-WbwzzVL"
      },
      "execution_count": null,
      "outputs": []
    },
    {
      "cell_type": "code",
      "source": [
        "import warnings\n",
        "warnings.filterwarnings(\"ignore\")\n",
        "np.random.seed(786)"
      ],
      "metadata": {
        "id": "AP-TlyoQ0PMT"
      },
      "execution_count": null,
      "outputs": []
    },
    {
      "cell_type": "markdown",
      "source": [
        "# 2. Configs"
      ],
      "metadata": {
        "id": "ul8b3MgvAEJO"
      }
    },
    {
      "cell_type": "code",
      "source": [
        "config = {\n",
        "    \"TRAIN_DIR\": '/content/kaggle/input/df_train.parquet',\n",
        "    \"TEST_DIR\": '/content/kaggle/input/df_test.parquet',\n",
        "    \"SUBMISSION_DIR\": '/content/sample_submission.csv'\n",
        "}"
      ],
      "metadata": {
        "id": "tnCzjmsJAGst"
      },
      "execution_count": null,
      "outputs": []
    },
    {
      "cell_type": "markdown",
      "source": [
        "# Exploración"
      ],
      "metadata": {
        "id": "9VCh0_mP9YFN"
      }
    },
    {
      "cell_type": "markdown",
      "source": [
        "## Diccionario"
      ],
      "metadata": {
        "id": "R3PIeauF9c56"
      }
    },
    {
      "cell_type": "markdown",
      "source": [
        "train.parquet - El conjunto de datos de entrenamiento\n",
        "test.parquet - El conjunto de datos de prueba\n",
        "sample_submission.csv - un ejemplo de un archivo a someter en la competencia"
      ],
      "metadata": {
        "id": "uwGcqMDn-AoF"
      }
    },
    {
      "cell_type": "markdown",
      "source": [
        "| **Variable**         | **Descripción**                                                                                      |\n",
        "|-----------------------|------------------------------------------------------------------------------------------------------|\n",
        "| id_bar               | identificador único del barrio                                                                      |\n",
        "| anio                 | Año de ocurrencia                                                                                   |\n",
        "| semana               | Semana de ocurrencia                                                                               |\n",
        "| Estrato              | Estrato socioeconómico del barrio                                                                   |\n",
        "| area_barrio          | Área del barrio en km²                                                                             |\n",
        "| dengue               | Conteo de casos de dengue                                                                          |\n",
        "| concentraciones      | Cantidad de visitas e intervención a lugares de concentración humana (Instituciones)                |\n",
        "| vivienda             | Conteo de las visitas a viviendas a revisión y control de criaderos                                 |\n",
        "| equipesado           | Conteo de las fumigaciones con Maquinaria Pesada                                                   |\n",
        "| sumideros            | Conteo de las intervenciones a los sumideros                                                       |\n",
        "| maquina              | Conteo de las fumigaciones con motomochila                                                         |\n",
        "| lluvia_mean          | Lluvia promedio en la semana i                                                                     |\n",
        "| lluvia_var           | Varianza de la lluvia en la semana i                                                               |\n",
        "| lluvia_max           | Lluvia máxima en la semana i                                                                       |\n",
        "| lluvia_min           | Lluvia mínima en la semana i                                                                       |\n",
        "| temperatura_mean     | Temperatura promedio en la semana i                                                                |\n",
        "| temperatura_var      | Varianza de la temperatura en la semana i                                                          |\n",
        "| temperatura_max      | Temperatura máxima en la semana i                                                                  |\n",
        "| temperatura_min      | Temperatura mínima en la semana i                                                                  |\n"
      ],
      "metadata": {
        "id": "Pw_6kTQ29_UD"
      }
    },
    {
      "cell_type": "markdown",
      "source": [
        "## Lectura del dataset de entrenamiento"
      ],
      "metadata": {
        "id": "eqMzIl1N-EUv"
      }
    },
    {
      "cell_type": "code",
      "source": [
        "# Assuming 'series_test.parquet' is in the current directory or you provide the correct path\n",
        "try:\n",
        "    train_df = pd.read_parquet(config[\"TRAIN_DIR\"]).iloc[:,1:]\n",
        "    print(train_df.describe())\n",
        "    print(train_df.info())\n",
        "    print(train_df.shape)\n",
        "except FileNotFoundError:\n",
        "    print(\"Error: 'series_train.parquet' not found. Please make sure the file exists in the current directory or provide the correct path.\")\n",
        "except Exception as e:\n",
        "    print(f\"An error occurred: {e}\")\n"
      ],
      "metadata": {
        "id": "eJ0n4hef5Dd5"
      },
      "execution_count": null,
      "outputs": []
    },
    {
      "cell_type": "code",
      "source": [
        "train_df.head()"
      ],
      "metadata": {
        "id": "sf1MEPNJ9-_u"
      },
      "execution_count": null,
      "outputs": []
    },
    {
      "cell_type": "code",
      "source": [
        "from datetime import datetime, timedelta\n",
        "\n",
        "# Define la función para obtener el último día de la semana\n",
        "def get_last_day_of_week(year, week):\n",
        "    first_day_of_year = datetime(year, 1, 1)\n",
        "    first_day_of_week = first_day_of_year + timedelta(days=(week - 1) * 7 - first_day_of_year.weekday())\n",
        "    last_day_of_week = first_day_of_week + timedelta(days=6)\n",
        "    return last_day_of_week\n",
        "\n",
        "# Aplicar la función al dataset\n",
        "train_df['ultimo_dia_semana'] = train_df.apply(lambda row: get_last_day_of_week(int(row['anio']), int(row['semana'])), axis=1)\n",
        "\n",
        "# Imprimir el DataFrame actualizado\n",
        "print(train_df)"
      ],
      "metadata": {
        "id": "y4vOriksmMQQ"
      },
      "execution_count": null,
      "outputs": []
    },
    {
      "cell_type": "code",
      "source": [
        "import pandas as pd\n",
        "# Convert 'ultimo_dia_semana' to datetime if it's not already\n",
        "train_df['ultimo_dia_semana'] = pd.to_datetime(train_df['ultimo_dia_semana'])\n",
        "# Set 'ultimo_dia_semana' as the index\n",
        "train_df = train_df.set_index('ultimo_dia_semana')\n"
      ],
      "metadata": {
        "id": "mLfGyZS8lFCc"
      },
      "execution_count": null,
      "outputs": []
    },
    {
      "cell_type": "markdown",
      "source": [
        "Todas las columnas son númericas"
      ],
      "metadata": {
        "id": "a_mqutF1HACm"
      }
    },
    {
      "cell_type": "code",
      "source": [
        "train_df.describe().T"
      ],
      "metadata": {
        "id": "DO6thnJKBRIx"
      },
      "execution_count": null,
      "outputs": []
    },
    {
      "source": [
        "missing_values = train_df.isnull().sum()\n",
        "missing_values[missing_values > 0]"
      ],
      "cell_type": "code",
      "metadata": {
        "id": "jcZTXKDrDSUm"
      },
      "execution_count": null,
      "outputs": []
    },
    {
      "cell_type": "code",
      "source": [
        "#Any missing data?\n",
        "print(\"missing_data:\", train_df.isna().sum())\n",
        "print(\"unique dates:\", train_df.index.nunique())"
      ],
      "metadata": {
        "id": "K19T3NmEJMky"
      },
      "execution_count": null,
      "outputs": []
    },
    {
      "cell_type": "code",
      "source": [
        "#Contando el número de valores para cada trimestre y año. Las columnas n son trimestres.\n",
        "#Aquí, cada trimestre y año tiene un valor, por lo que no hay duplicados.\n",
        "pd.crosstab(index=train_df.index.year, columns=train_df.index.quarter)"
      ],
      "metadata": {
        "id": "HPG9NpZ_Jcnd"
      },
      "execution_count": null,
      "outputs": []
    },
    {
      "cell_type": "code",
      "source": [
        "train_df.index"
      ],
      "metadata": {
        "id": "Si3lRG9IIqyv"
      },
      "execution_count": null,
      "outputs": []
    },
    {
      "cell_type": "code",
      "source": [
        "# Filter the DataFrame for cases where 'dengue' is greater than 25\n",
        "filtered_df = train_df[train_df['dengue'] > 25]\n",
        "\n",
        "# Create the text-based listing\n",
        "output_text = \"\"\n",
        "for index, row in filtered_df.iterrows():\n",
        "    output_text += f\"id_bar: {row['id_bar']}, Año: {row['anio']}, Casos de Dengue: {row['dengue']}\\n\"\n",
        "\n",
        "# Print the output or save to a file\n",
        "output_text\n",
        "# Or, to save to a file:\n",
        "# with open(\"dengue_cases_report.txt\", \"w\") as f:\n",
        "#     f.write(output_text)\n"
      ],
      "metadata": {
        "id": "vQ_1BdPiq4Pp"
      },
      "execution_count": null,
      "outputs": []
    },
    {
      "cell_type": "markdown",
      "source": [
        "***Exploración de Datos***\n",
        "\n",
        "*   Una vez realizada la lectura del dataset de entrenamiento se revisan las estadísticas descriptivas (media, desviación estándar, mínimos, máximos, cuartiles) de los datos numéricos.\n",
        "*   Se revisan el resumen de los tipos de datos y valores nulos en cada columna para obtener información de tipos de datos y valores perdidos, y las dimensiones del DataFrame.\n",
        "*   Se procede a la creación de la columna **'ultimo_dia_semana'**: al DataFrame que representa el último día de la semana para cada fila, basándonos en el año y la semana proporcionados. Para poder indexar cronológicamente los datos, esta información se usa más adelante para establecer un índice de tiempo.\n",
        "*   Número de filas y columnas del DataFrame `train_df`: [3680 rows x 20 columns]\n",
        "*  Número de valores nulos por columna: [0]\n",
        "*  Número de fechas únicas: [365]\n",
        "*  Se crea una tabla cruzada que muestra el conteo de valores por año y trimestre Resultados del Conteo de valores por año y trimestre buscando desequilibrios o patrones recurrentes: En los años del 2015 al 2021 son mas homogeneos en la cantidad de datos recolectados del 2022 solo existen 10\n",
        "* La variable Categorica Estrato: Contiene valores del 1 al 3\n",
        "* Se hace una revisión los hitos mas significativos de los casos reportado de dengue teniendo como resultado.\n",
        "   * id_bar: 2, Año: 2015, Casos de Dengue: 26.0\n",
        "   * id_bar: 1, Año: 2015, Casos de Dengue: 27.0\n",
        "   * id_bar: 1, Año: 2016, Casos de Dengue: 28.0\n",
        "   * id_bar: 0, Año: 2020, Casos de Dengue: 29.0\n",
        "\n"
      ],
      "metadata": {
        "id": "Y9nOHcFlHTT6"
      }
    },
    {
      "cell_type": "markdown",
      "source": [
        "**Nota**: Es fácil confundir la aleatoriedad con la estacionalidad. En el gráfico de recorrido aleatorio a continuación, puede parecer que los datos presentan cierta estacionalidad, pero no es así."
      ],
      "metadata": {
        "id": "8c14skLWyXQQ"
      }
    },
    {
      "cell_type": "code",
      "source": [
        "np.random.seed(578)\n",
        "steps = np.random.normal(0,1,500)\n",
        "\n",
        "noise = pd.DataFrame({\"x\":steps})\n",
        "wnoise_chart = alt.Chart(noise.reset_index()).mark_line().encode(\n",
        "    x='index',\n",
        "    y='x').properties(\n",
        "    title=\"White Noise\")\n",
        "\n",
        "#Create random walk with N(0,1.5), 500 points\n",
        "\n",
        "steps[0]=0\n",
        "rwalk = pd.DataFrame({\"x\":100 + np.cumsum(steps)}).reset_index()\n",
        "rwalk_chart = alt.Chart(rwalk).mark_line().encode(\n",
        "    x='index',\n",
        "    y=alt.Y('x', scale=alt.Scale(domain=(80,150)))).properties(\n",
        "    title=\"Random Walk\")\n",
        "\n",
        "\n",
        "wnoise_chart | rwalk_chart"
      ],
      "metadata": {
        "id": "VQ9ejAo5x0cd"
      },
      "execution_count": null,
      "outputs": []
    },
    {
      "cell_type": "markdown",
      "source": [
        "**Creación de un gráfico de barras para visualizar los casos de dengue**\n"
      ],
      "metadata": {
        "id": "tVKx--9v1wKK"
      }
    },
    {
      "cell_type": "code",
      "source": [
        "#Este segmento de código toma los datos de casos de dengue, genera un gráfico de barras que representa visualmente las fluctuaciones en los casos de dengue. Enfatiza la importancia de comprender el patrón intermitente de los brotes de la enfermedad.\n",
        "\n",
        "demand = train_df['dengue']\n",
        "range_values = np.arange(len(demand))\n",
        "demanddf = pd.DataFrame({'y': demand, 'x': range_values})\n",
        "alt.Chart(demanddf).mark_bar().encode(\n",
        "    x='x',\n",
        "    y='y').properties(\n",
        "    title=\"Fluctuaciones de Casos del Dengue\", width = 700)"
      ],
      "metadata": {
        "id": "m_6_KR2iyrmB"
      },
      "execution_count": null,
      "outputs": []
    },
    {
      "source": [
        "# Create a new 'anio_semana' column\n",
        "train_df['anio_semana'] = train_df['anio'].astype(str) + '-' + train_df['semana'].astype(str).str.zfill(2)\n",
        "train_df['anio_semana'] = pd.to_datetime(train_df['anio_semana'] + '-1', format='%Y-%W-%w')\n",
        "\n",
        "# Get unique 'id_bar' values and sort them\n",
        "unique_id_bars = sorted(train_df['id_bar'].unique())\n",
        "\n",
        "# Calculate number of rows needed for 1 column (which is the same as the number of unique id_bars)\n",
        "num_rows = len(unique_id_bars)\n",
        "\n",
        "# Create a figure and a grid of subplots with 1 column\n",
        "fig, axes = plt.subplots(num_rows, 1, figsize=(10, 6 * num_rows))\n",
        "\n",
        "# Iterate and plot on each subplot\n",
        "for i, id_bar in enumerate(unique_id_bars):\n",
        "    id_bar_data = train_df[train_df['id_bar'] == id_bar]\n",
        "    axes[i].plot(id_bar_data['anio_semana'], id_bar_data['dengue'])  # Use axes[i] for single column\n",
        "    axes[i].set_xlabel('Año-Semana')\n",
        "    axes[i].set_ylabel('Casos de Dengue')\n",
        "    axes[i].set_title(f'id_bar: {id_bar}')\n",
        "\n",
        "# Adjust spacing between subplots\n",
        "plt.tight_layout()\n",
        "plt.show()"
      ],
      "cell_type": "code",
      "metadata": {
        "id": "SInUfk9JDemm"
      },
      "execution_count": null,
      "outputs": []
    },
    {
      "cell_type": "markdown",
      "source": [
        "## Visualizar la serie temporal"
      ],
      "metadata": {
        "id": "DF6tZZuRJMMf"
      }
    },
    {
      "cell_type": "code",
      "source": [
        "# Create a new 'anio_semana' column\n",
        "train_df['anio_semana'] = train_df['anio'].astype(str) + '-' + train_df['semana'].astype(str).str.zfill(2)\n",
        "train_df['anio_semana'] = pd.to_datetime(train_df['anio_semana'] + '-1', format='%Y-%W-%w')\n",
        "\n",
        "# Get unique 'id_bar' values and assign colors\n",
        "unique_id_bars = train_df['id_bar'].unique()\n",
        "colors = plt.cm.get_cmap('viridis', len(unique_id_bars))  # Use a colormap\n",
        "\n",
        "# Create a single plot\n",
        "fig, ax = plt.subplots(figsize=(10, 5))\n",
        "\n",
        "# Plot data for each 'id_bar' with different colors\n",
        "for i, id_bar in enumerate(unique_id_bars):\n",
        "    id_bar_data = train_df[train_df['id_bar'] == id_bar]\n",
        "    ax.plot(id_bar_data['anio_semana'], id_bar_data['dengue'],\n",
        "            color=colors(i), label=f'id_bar: {id_bar}')\n",
        "\n",
        "# Customize plot\n",
        "ax.set_xlabel('Año-Semana')\n",
        "ax.set_ylabel('Casos de Dengue')\n",
        "ax.set_title('Tendencia de Casos de Dengue por id_bar (Color)')\n",
        "ax.legend(loc='upper left', bbox_to_anchor=(1, 1))  # Place legend outside\n",
        "\n",
        "plt.tight_layout()\n",
        "plt.show()"
      ],
      "metadata": {
        "id": "lbKjwz-mMGL6"
      },
      "execution_count": null,
      "outputs": []
    },
    {
      "source": [
        "plt.bar(train_df['ESTRATO'], train_df['dengue'])\n",
        "plt.xlabel('Estrato')\n",
        "plt.ylabel('Casos de Dengue')\n",
        "plt.title('Casos de Dengue por Estrato')\n",
        "plt.show()"
      ],
      "cell_type": "code",
      "metadata": {
        "id": "_xzKN_kXDt9b"
      },
      "execution_count": null,
      "outputs": []
    },
    {
      "cell_type": "markdown",
      "source": [
        "## Matriz de correlación"
      ],
      "metadata": {
        "id": "WAN2VqkpPmqt"
      }
    },
    {
      "source": [
        "corr_matrix = train_df.iloc[:,:-1].corr()\n",
        "\n",
        "# Define colors and positions for the gradient\n",
        "colors = [(1, 0, 0), (0.6, 0.8, 1), (1, 0.5, 0)]  # Red, Light Blue, Orange in RGB\n",
        "positions = [0, 0.6, 1]  # Positions for color transitions (0 to 1)\n",
        "\n",
        "# Create custom colormap\n",
        "cmap = LinearSegmentedColormap.from_list('custom_cmap', list(zip(positions, colors)))\n",
        "\n",
        "# Create heatmap with custom colormap\n",
        "sns.heatmap(corr_matrix,\n",
        "            yticklabels=corr_matrix.columns,\n",
        "            xticklabels=False,\n",
        "            annot=False,\n",
        "            cmap=cmap,\n",
        "            vmin=-1, vmax=1,  # Set color range limits\n",
        "            center=0)  # Center color at 0\n",
        "\n",
        "\n",
        "plt.gca().spines['bottom'].set_visible(False)  # Hide the x-axis line\n",
        "\n",
        "plt.title('Matriz de Correlación')\n",
        "plt.show()"
      ],
      "cell_type": "code",
      "metadata": {
        "id": "6XD3DGy-O_T7"
      },
      "execution_count": null,
      "outputs": []
    },
    {
      "cell_type": "code",
      "source": [
        "# Filter correlations greater than 0.5 (absolute value)\n",
        "high_correlations = corr_matrix[abs(corr_matrix) > 0.5]\n",
        "\n",
        "# Print the filtered correlations in text format\n",
        "print(\"Correlaciones mayores a 0.5:\")\n",
        "for col in high_correlations.columns:\n",
        "    for index in high_correlations.index:\n",
        "      if abs(high_correlations.loc[index,col]) > 0.5 and index != col:\n",
        "        print(f\"{index} - {col}: {high_correlations.loc[index,col]:.2f}\")\n"
      ],
      "metadata": {
        "id": "AJ_-GuV4gwnH"
      },
      "execution_count": null,
      "outputs": []
    },
    {
      "cell_type": "markdown",
      "source": [
        "\n",
        "Se presenta correlación entre **id_bar** y **area_barrio**, además de entre las variables de lluvia al igual que las de temperatura.\n",
        "\n",
        "La mayor correlacción con **dengue** es **anio** y **semana**"
      ],
      "metadata": {
        "id": "jZkRH3sQPuzZ"
      }
    },
    {
      "cell_type": "code",
      "source": [
        "# Using statmodels: Subtracting the Trend Component\n",
        "from statsmodels.tsa.seasonal import seasonal_decompose\n",
        "\n",
        "# Check for zero and negative values in 'dengue' column\n",
        "if (train_df['dengue'] <= 0).any():\n",
        "    # If zero or negative values exist, use 'additive' model\n",
        "    result_mul = seasonal_decompose(train_df['dengue'], model='additive', period=30)\n",
        "else:\n",
        "    # If no zero or negative values, use 'multiplicative' model\n",
        "    result_mul = seasonal_decompose(train_df['dengue'], model='multiplicative', period=30)\n",
        "\n",
        "detrended = train_df['dengue'].values - result_mul.trend\n",
        "plt.plot(detrended)\n",
        "plt.title('Dengue desestabilizados restando el componente de tendencia', fontsize=16)"
      ],
      "metadata": {
        "id": "UG25MtUxDKpb"
      },
      "execution_count": null,
      "outputs": []
    },
    {
      "cell_type": "markdown",
      "source": [
        "La forma habitual de comprobar la estacionalidad de una serie temporal es graficarla y comprobar si existen patrones repetibles en intervalos de tiempo fijos. Por lo tanto, el tipo de estacionalidad se determina por el reloj o el calendario.\n",
        "Sin embargo, si deseamos una evaluación más precisa de la estacionalidad, utilice el gráfico de la Función de Autocorrelación (ACF). Debido a la fuerte estacionalidad, el gráfico de la ACF suele revelar picos repetidos y definidos en los múltiplos de la ventana estacional."
      ],
      "metadata": {
        "id": "tvUEqbsDCg_i"
      }
    },
    {
      "cell_type": "code",
      "source": [],
      "metadata": {
        "id": "B_GESABlCho0"
      },
      "execution_count": null,
      "outputs": []
    },
    {
      "cell_type": "code",
      "source": [
        "# Test for seasonality\n",
        "from pandas.plotting import autocorrelation_plot\n",
        "\n",
        "# Draw Plot\n",
        "plt.rcParams.update({'figure.figsize':(10,6), 'figure.dpi':120})\n",
        "autocorrelation_plot(train_df['dengue'].tolist())"
      ],
      "metadata": {
        "id": "cUJfTpCp-PAX"
      },
      "execution_count": null,
      "outputs": []
    }
  ]
}