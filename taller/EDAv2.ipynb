{
  "nbformat": 4,
  "nbformat_minor": 0,
  "metadata": {
    "colab": {
      "private_outputs": true,
      "provenance": [],
      "include_colab_link": true
    },
    "kernelspec": {
      "name": "python3",
      "display_name": "Python 3"
    },
    "language_info": {
      "name": "python"
    }
  },
  "cells": [
    {
      "cell_type": "markdown",
      "metadata": {
        "id": "view-in-github",
        "colab_type": "text"
      },
      "source": [
        "<a href=\"https://colab.research.google.com/github/cam2149/MachineLearningV/blob/main/taller/EDAv2.ipynb\" target=\"_parent\"><img src=\"https://colab.research.google.com/assets/colab-badge.svg\" alt=\"Open In Colab\"/></a>"
      ]
    },
    {
      "cell_type": "markdown",
      "source": [
        "**Equipo**\n",
        "\n",
        "- Nicolás Colmenares\n",
        "\n",
        "- Carlos Martinez"
      ],
      "metadata": {
        "id": "Ckrr43Eb7-jD"
      }
    },
    {
      "cell_type": "markdown",
      "source": [
        "1. Análisis Exploratorio de Datos (EDA) - 0.5 pts\n",
        "\n",
        "  -  Carga y limpieza de los datos.\n",
        "\n",
        "  - Visualización de tendencias y patrones de dengue.\n",
        "\n",
        "  -  Análisis de correlaciones entre variables."
      ],
      "metadata": {
        "id": "eNJUawM57uzy"
      }
    },
    {
      "cell_type": "markdown",
      "source": [
        "# 0. Configuraciones de Colab"
      ],
      "metadata": {
        "id": "l9U_uqnvvYtf"
      }
    },
    {
      "cell_type": "markdown",
      "source": [
        "Mover Kaggle.json a la ubicación correcta después de subirlo"
      ],
      "metadata": {
        "id": "zi1MbjLG81SQ"
      }
    },
    {
      "source": [
        "!mkdir -p ~/.kaggle\n",
        "!mv kaggle.json ~/.kaggle/\n",
        "!chmod 600 ~/.kaggle/kaggle.json\n"
      ],
      "cell_type": "code",
      "metadata": {
        "id": "FkW9-t478uLh"
      },
      "execution_count": null,
      "outputs": []
    },
    {
      "cell_type": "markdown",
      "source": [
        "Descargar dataset de la competencia"
      ],
      "metadata": {
        "id": "VWH9Y2UG9KLD"
      }
    },
    {
      "source": [
        "!kaggle competitions download -c aa-v-2025-i-pronosticos-nn-rnn-cnn"
      ],
      "cell_type": "code",
      "metadata": {
        "id": "SnUZl0d-8_Cj"
      },
      "execution_count": null,
      "outputs": []
    },
    {
      "cell_type": "code",
      "source": [
        "!mkdir /content/kaggle/output\n",
        "!mkdir /content/kaggle/input"
      ],
      "metadata": {
        "id": "vaLprrm32zGg"
      },
      "execution_count": null,
      "outputs": []
    },
    {
      "cell_type": "code",
      "source": [
        "!mv aa-v-2025-i-pronosticos-nn-rnn-cnn.zip /content/kaggle/input"
      ],
      "metadata": {
        "id": "s07nq5K1zyuN"
      },
      "execution_count": null,
      "outputs": []
    },
    {
      "cell_type": "code",
      "source": [
        "!unzip /content/kaggle/input/aa-v-2025-i-pronosticos-nn-rnn-cnn.zip -d /content/kaggle/input/"
      ],
      "metadata": {
        "id": "skxqP_oq0VeN"
      },
      "execution_count": null,
      "outputs": []
    },
    {
      "cell_type": "code",
      "source": [
        "# Input data files are available in the read-only \"../input/\" directory\n",
        "# For example, running this (by clicking run or pressing Shift+Enter) will list all files under the input directory\n",
        "#/kaggle/input\n",
        "import os\n",
        "for dirname, _, filenames in os.walk('/content/kaggle/input'):\n",
        "    for filename in filenames:\n",
        "        print(os.path.join(dirname, filename))\n",
        "\n",
        "# You can write up to 5GB to the current directory (/kaggle/working/) that gets preserved as output when you create a version using \"Save & Run All\"\n",
        "# You can also write temporary files to /kaggle/temp/, but they won't be saved outside of the current session"
      ],
      "metadata": {
        "id": "0m2oYgGOxJue"
      },
      "execution_count": null,
      "outputs": []
    },
    {
      "cell_type": "markdown",
      "source": [
        "# 1. Imports"
      ],
      "metadata": {
        "id": "FiQLr9h-0Cr7"
      }
    },
    {
      "cell_type": "code",
      "source": [
        "import numpy as np # linear algebra\n",
        "import pandas as pd # data processing, CSV file I/O (e.g. pd.read_csv)\n",
        "\n",
        "import matplotlib as mpl\n",
        "import matplotlib.pyplot as plt   # data visualization\n",
        "import seaborn as sns             # statistical data visualization\n",
        "from matplotlib.colors import LinearSegmentedColormap"
      ],
      "metadata": {
        "id": "MO0sH9aq9VlV"
      },
      "execution_count": null,
      "outputs": []
    },
    {
      "cell_type": "markdown",
      "source": [
        "# 2. Configs"
      ],
      "metadata": {
        "id": "ul8b3MgvAEJO"
      }
    },
    {
      "cell_type": "code",
      "source": [
        "config = {\n",
        "    \"TRAIN_DIR\": '/content/kaggle/input/df_train.parquet',\n",
        "    \"TEST_DIR\": '/content/kaggle/input/df_test.parquet',\n",
        "    \"SUBMISSION_DIR\": '/content/sample_submission.csv'\n",
        "}"
      ],
      "metadata": {
        "id": "tnCzjmsJAGst"
      },
      "execution_count": null,
      "outputs": []
    },
    {
      "cell_type": "markdown",
      "source": [
        "# Exploración"
      ],
      "metadata": {
        "id": "9VCh0_mP9YFN"
      }
    },
    {
      "cell_type": "markdown",
      "source": [
        "## Diccionario"
      ],
      "metadata": {
        "id": "R3PIeauF9c56"
      }
    },
    {
      "cell_type": "markdown",
      "source": [
        "train.parquet - El conjunto de datos de entrenamiento\n",
        "test.parquet - El conjunto de datos de prueba\n",
        "sample_submission.csv - un ejemplo de un archivo a someter en la competencia"
      ],
      "metadata": {
        "id": "uwGcqMDn-AoF"
      }
    },
    {
      "cell_type": "markdown",
      "source": [
        "| **Variable**         | **Descripción**                                                                                      |\n",
        "|-----------------------|------------------------------------------------------------------------------------------------------|\n",
        "| id_bar               | identificador único del barrio                                                                      |\n",
        "| anio                 | Año de ocurrencia                                                                                   |\n",
        "| semana               | Semana de ocurrencia                                                                               |\n",
        "| Estrato              | Estrato socioeconómico del barrio                                                                   |\n",
        "| area_barrio          | Área del barrio en km²                                                                             |\n",
        "| dengue               | Conteo de casos de dengue                                                                          |\n",
        "| concentraciones      | Cantidad de visitas e intervención a lugares de concentración humana (Instituciones)                |\n",
        "| vivienda             | Conteo de las visitas a viviendas a revisión y control de criaderos                                 |\n",
        "| equipesado           | Conteo de las fumigaciones con Maquinaria Pesada                                                   |\n",
        "| sumideros            | Conteo de las intervenciones a los sumideros                                                       |\n",
        "| maquina              | Conteo de las fumigaciones con motomochila                                                         |\n",
        "| lluvia_mean          | Lluvia promedio en la semana i                                                                     |\n",
        "| lluvia_var           | Varianza de la lluvia en la semana i                                                               |\n",
        "| lluvia_max           | Lluvia máxima en la semana i                                                                       |\n",
        "| lluvia_min           | Lluvia mínima en la semana i                                                                       |\n",
        "| temperatura_mean     | Temperatura promedio en la semana i                                                                |\n",
        "| temperatura_var      | Varianza de la temperatura en la semana i                                                          |\n",
        "| temperatura_max      | Temperatura máxima en la semana i                                                                  |\n",
        "| temperatura_min      | Temperatura mínima en la semana i                                                                  |\n"
      ],
      "metadata": {
        "id": "Pw_6kTQ29_UD"
      }
    },
    {
      "cell_type": "markdown",
      "source": [
        "## Lectura del dataset de entrenamiento"
      ],
      "metadata": {
        "id": "eqMzIl1N-EUv"
      }
    },
    {
      "cell_type": "code",
      "source": [
        "# Assuming 'series_test.parquet' is in the current directory or you provide the correct path\n",
        "try:\n",
        "    train_df = pd.read_parquet(config[\"TRAIN_DIR\"]).iloc[:,1:]\n",
        "    print(train_df.describe())\n",
        "    print(train_df.info())\n",
        "    print(train_df.shape)\n",
        "except FileNotFoundError:\n",
        "    print(\"Error: 'series_train.parquet' not found. Please make sure the file exists in the current directory or provide the correct path.\")\n",
        "except Exception as e:\n",
        "    print(f\"An error occurred: {e}\")\n",
        ""
      ],
      "metadata": {
        "id": "eJ0n4hef5Dd5"
      },
      "execution_count": null,
      "outputs": []
    },
    {
      "cell_type": "code",
      "source": [
        "train_df.head()"
      ],
      "metadata": {
        "id": "sf1MEPNJ9-_u"
      },
      "execution_count": null,
      "outputs": []
    },
    {
      "cell_type": "code",
      "source": [
        "train_df.dtypes"
      ],
      "metadata": {
        "id": "eQQEapR7BbwY"
      },
      "execution_count": null,
      "outputs": []
    },
    {
      "cell_type": "markdown",
      "source": [
        "Todas las columnas son númericas"
      ],
      "metadata": {
        "id": "a_mqutF1HACm"
      }
    },
    {
      "cell_type": "code",
      "source": [
        "train_df.describe().T"
      ],
      "metadata": {
        "id": "DO6thnJKBRIx"
      },
      "execution_count": null,
      "outputs": []
    },
    {
      "cell_type": "markdown",
      "source": [
        "Estrato va del 1 al 3\n",
        "\n",
        "Los casos de dengue llegan a 29\n",
        "\n",
        "lluvia min siempre es 0"
      ],
      "metadata": {
        "id": "Y9nOHcFlHTT6"
      }
    },
    {
      "source": [
        "missing_values = train_df.isnull().sum()\n",
        "missing_values[missing_values > 0]"
      ],
      "cell_type": "code",
      "metadata": {
        "id": "jcZTXKDrDSUm"
      },
      "execution_count": null,
      "outputs": []
    },
    {
      "cell_type": "markdown",
      "source": [
        "No hay valores nulos"
      ],
      "metadata": {
        "id": "mqwSInoWIg9P"
      }
    },
    {
      "cell_type": "markdown",
      "source": [
        "## Visualizar la serie temporal"
      ],
      "metadata": {
        "id": "DF6tZZuRJMMf"
      }
    },
    {
      "cell_type": "code",
      "source": [
        "def plot_df(df, x, y, title=\"\", xlabel='Year_Week', ylabel='Cases of Dengue', dpi=100):\n",
        "    plt.figure(figsize=(15,4), dpi=dpi)\n",
        "    plt.plot(x, y, color='tab:red')\n",
        "    plt.gca().set(title=title, xlabel=xlabel, ylabel=ylabel)\n",
        "    plt.show()\n"
      ],
      "metadata": {
        "id": "mE7Y5KWp7miE"
      },
      "execution_count": null,
      "outputs": []
    },
    {
      "source": [
        "# Create a new 'anio_semana' column\n",
        "train_df['anio_semana'] = train_df['anio'].astype(str) + '-' + train_df['semana'].astype(str).str.zfill(2)\n",
        "train_df['anio_semana'] = pd.to_datetime(train_df['anio_semana'] + '-1', format='%Y-%W-%w')\n",
        "\n",
        "# Get unique 'id_bar' values and sort them\n",
        "unique_id_bars = sorted(train_df['id_bar'].unique())\n",
        "\n",
        "# Calculate number of rows needed for 1 column (which is the same as the number of unique id_bars)\n",
        "num_rows = len(unique_id_bars)\n",
        "\n",
        "# Create a figure and a grid of subplots with 1 column\n",
        "fig, axes = plt.subplots(num_rows, 1, figsize=(10, 5 * num_rows))\n",
        "\n",
        "# Iterate and plot on each subplot\n",
        "for i, id_bar in enumerate(unique_id_bars):\n",
        "    id_bar_data = train_df[train_df['id_bar'] == id_bar]\n",
        "    axes[i].plot(id_bar_data['anio_semana'], id_bar_data['dengue'])  # Use axes[i] for single column\n",
        "    axes[i].set_xlabel('Año-Semana')\n",
        "    axes[i].set_ylabel('Casos de Dengue')\n",
        "    axes[i].set_title(f'id_bar: {id_bar}')\n",
        "\n",
        "# Adjust spacing between subplots\n",
        "plt.tight_layout()\n",
        "plt.show()"
      ],
      "cell_type": "code",
      "metadata": {
        "id": "SInUfk9JDemm"
      },
      "execution_count": null,
      "outputs": []
    },
    {
      "cell_type": "code",
      "source": [
        "# Create a new 'anio_semana' column\n",
        "train_df['anio_semana'] = train_df['anio'].astype(str) + '-' + train_df['semana'].astype(str).str.zfill(2)\n",
        "train_df['anio_semana'] = pd.to_datetime(train_df['anio_semana'] + '-1', format='%Y-%W-%w')\n",
        "\n",
        "# Get unique 'id_bar' values and assign colors\n",
        "unique_id_bars = train_df['id_bar'].unique()\n",
        "colors = plt.cm.get_cmap('viridis', len(unique_id_bars))  # Use a colormap\n",
        "\n",
        "# Create a single plot\n",
        "fig, ax = plt.subplots(figsize=(10, 6))\n",
        "\n",
        "# Plot data for each 'id_bar' with different colors\n",
        "for i, id_bar in enumerate(unique_id_bars):\n",
        "    id_bar_data = train_df[train_df['id_bar'] == id_bar]\n",
        "    ax.plot(id_bar_data['anio_semana'], id_bar_data['dengue'],\n",
        "            color=colors(i), label=f'id_bar: {id_bar}')\n",
        "\n",
        "# Customize plot\n",
        "ax.set_xlabel('Año-Semana')\n",
        "ax.set_ylabel('Casos de Dengue')\n",
        "ax.set_title('Tendencia de Casos de Dengue por id_bar (Color)')\n",
        "ax.legend(loc='upper left', bbox_to_anchor=(1, 1))  # Place legend outside\n",
        "\n",
        "plt.tight_layout()\n",
        "plt.show()"
      ],
      "metadata": {
        "id": "lbKjwz-mMGL6"
      },
      "execution_count": null,
      "outputs": []
    },
    {
      "source": [
        "plt.bar(train_df['ESTRATO'], train_df['dengue'])\n",
        "plt.xlabel('Estrato')\n",
        "plt.ylabel('Casos de Dengue')\n",
        "plt.title('Casos de Dengue por Estrato')\n",
        "plt.show()"
      ],
      "cell_type": "code",
      "metadata": {
        "id": "_xzKN_kXDt9b"
      },
      "execution_count": null,
      "outputs": []
    },
    {
      "cell_type": "markdown",
      "source": [
        "## Matriz de correlación"
      ],
      "metadata": {
        "id": "WAN2VqkpPmqt"
      }
    },
    {
      "source": [
        "corr_matrix = train_df.iloc[:,:-1].corr()\n",
        "\n",
        "# Define colors and positions for the gradient\n",
        "colors = [(1, 0, 0), (0.6, 0.8, 1), (1, 0.5, 0)]  # Red, Light Blue, Orange in RGB\n",
        "positions = [0, 0.6, 1]  # Positions for color transitions (0 to 1)\n",
        "\n",
        "# Create custom colormap\n",
        "cmap = LinearSegmentedColormap.from_list('custom_cmap', list(zip(positions, colors)))\n",
        "\n",
        "# Create heatmap with custom colormap\n",
        "sns.heatmap(corr_matrix,\n",
        "            yticklabels=corr_matrix.columns,\n",
        "            xticklabels=False,\n",
        "            annot=False,\n",
        "            cmap=cmap,\n",
        "            vmin=-1, vmax=1,  # Set color range limits\n",
        "            center=0)  # Center color at 0\n",
        "\n",
        "\n",
        "plt.gca().spines['bottom'].set_visible(False)  # Hide the x-axis line\n",
        "\n",
        "plt.title('Matriz de Correlación')\n",
        "plt.show()"
      ],
      "cell_type": "code",
      "metadata": {
        "id": "6XD3DGy-O_T7"
      },
      "execution_count": null,
      "outputs": []
    },
    {
      "cell_type": "markdown",
      "source": [
        "Se presenta correlación entre **id_bar** y **area_barrio**, además de entre las variables de lluvia al igual que las de temperatura.\n",
        "\n",
        "La mayor correlacción con **dengue** es **anio** y **semana**"
      ],
      "metadata": {
        "id": "jZkRH3sQPuzZ"
      }
    },
    {
      "cell_type": "code",
      "source": [
        "# Using statmodels: Subtracting the Trend Component\n",
        "from statsmodels.tsa.seasonal import seasonal_decompose\n",
        "\n",
        "# Check for zero and negative values in 'dengue' column\n",
        "if (train_df['dengue'] <= 0).any():\n",
        "    # If zero or negative values exist, use 'additive' model\n",
        "    result_mul = seasonal_decompose(train_df['dengue'], model='additive', period=30)\n",
        "else:\n",
        "    # If no zero or negative values, use 'multiplicative' model\n",
        "    result_mul = seasonal_decompose(train_df['dengue'], model='multiplicative', period=30)\n",
        "\n",
        "detrended = train_df['dengue'].values - result_mul.trend\n",
        "plt.plot(detrended)\n",
        "plt.title('Dengue desestabilizados restando el componente de tendencia', fontsize=16)"
      ],
      "metadata": {
        "id": "UG25MtUxDKpb"
      },
      "execution_count": null,
      "outputs": []
    },
    {
      "cell_type": "code",
      "source": [
        "# Subtracting the Trend Component\n",
        "\n",
        "\n",
        "# Time Series Decomposition\n",
        "result_mul = seasonal_decompose(df['Number of Passengers'], model='multiplicative', period=30)\n",
        "\n",
        "\n",
        "# Deseasonalize\n",
        "deseasonalized = df['Number of Passengers'].values / result_mul.seasonal\n",
        "\n",
        "\n",
        "# Plot\n",
        "plt.plot(deseasonalized)\n",
        "plt.title('Air Passengers Deseasonalized', fontsize=16)\n",
        "plt.plot()"
      ],
      "metadata": {
        "id": "Xcs8fsMhDGlM"
      },
      "execution_count": null,
      "outputs": []
    },
    {
      "cell_type": "markdown",
      "source": [
        "La forma habitual de comprobar la estacionalidad de una serie temporal es graficarla y comprobar si existen patrones repetibles en intervalos de tiempo fijos. Por lo tanto, el tipo de estacionalidad se determina por el reloj o el calendario.\n",
        "Sin embargo, si deseamos una evaluación más precisa de la estacionalidad, utilice el gráfico de la Función de Autocorrelación (ACF). Debido a la fuerte estacionalidad, el gráfico de la ACF suele revelar picos repetidos y definidos en los múltiplos de la ventana estacional."
      ],
      "metadata": {
        "id": "tvUEqbsDCg_i"
      }
    },
    {
      "cell_type": "code",
      "source": [],
      "metadata": {
        "id": "B_GESABlCho0"
      },
      "execution_count": null,
      "outputs": []
    },
    {
      "cell_type": "code",
      "source": [
        "# Test for seasonality\n",
        "from pandas.plotting import autocorrelation_plot\n",
        "\n",
        "# Draw Plot\n",
        "plt.rcParams.update({'figure.figsize':(10,6), 'figure.dpi':120})\n",
        "autocorrelation_plot(train_df['dengue'].tolist())"
      ],
      "metadata": {
        "id": "cUJfTpCp-PAX"
      },
      "execution_count": null,
      "outputs": []
    }
  ]
}