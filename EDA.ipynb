{
  "nbformat": 4,
  "nbformat_minor": 0,
  "metadata": {
    "colab": {
      "private_outputs": true,
      "provenance": [],
      "authorship_tag": "ABX9TyN8f0XDHMq+4KVxf5aDHSMi"
    },
    "kernelspec": {
      "name": "python3",
      "display_name": "Python 3"
    },
    "language_info": {
      "name": "python"
    }
  },
  "cells": [
    {
      "cell_type": "markdown",
      "source": [
        "# 0. Configuraciones de Colab"
      ],
      "metadata": {
        "id": "l9U_uqnvvYtf"
      }
    },
    {
      "source": [
        "#!pip install nbdime"
      ],
      "cell_type": "code",
      "metadata": {
        "collapsed": true,
        "id": "0V_XDs31xKvF"
      },
      "execution_count": null,
      "outputs": []
    },
    {
      "cell_type": "markdown",
      "source": [
        "Verificar que nbdime este instalado, si no descomentar y ejecutar la celda anterior."
      ],
      "metadata": {
        "id": "3ax_xFy5xqs-"
      }
    },
    {
      "cell_type": "code",
      "source": [
        "!nbdime --version"
      ],
      "metadata": {
        "id": "zHsHY5CexyO-"
      },
      "execution_count": null,
      "outputs": []
    },
    {
      "cell_type": "markdown",
      "source": [
        "# 1. Imports"
      ],
      "metadata": {
        "id": "FiQLr9h-0Cr7"
      }
    }
  ]
}