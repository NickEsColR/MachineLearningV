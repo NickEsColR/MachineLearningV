{
  "cells": [
    {
      "cell_type": "markdown",
      "metadata": {
        "id": "view-in-github",
        "colab_type": "text"
      },
      "source": [
        "<a href=\"https://colab.research.google.com/github/cam2149/MachineLearningV/blob/main/01-02-AIRPASSENGERS-RedesNeuronalesSkLearn.ipynb\" target=\"_parent\"><img src=\"https://colab.research.google.com/assets/colab-badge.svg\" alt=\"Open In Colab\"/></a>"
      ]
    },
    {
      "cell_type": "markdown",
      "metadata": {
        "id": "f5jlNfa5inbT"
      },
      "source": [
        "# Redes neuronales para pronosticar el número de pasajeros aéreos"
      ]
    },
    {
      "cell_type": "markdown",
      "metadata": {
        "id": "iRmrja48inbV"
      },
      "source": [
        "Vamos a utilizar modelos de redes neuronales para realizar tareas de pronóstico."
      ]
    },
    {
      "cell_type": "markdown",
      "metadata": {
        "id": "oYp0W-j5inbV"
      },
      "source": [
        "Los datos que vamos a analizar son los correspondientes al número de pasajeros aéreos mensuales. Van desde enero de 1949 hasta diciembre de 1960."
      ]
    },
    {
      "cell_type": "code",
      "execution_count": 30,
      "metadata": {
        "id": "d3sic5j_inbW"
      },
      "outputs": [],
      "source": [
        "import numpy as np\n",
        "import pandas as pd #tratamiento de datos\n",
        "import matplotlib.pyplot as plt #gráficos\n",
        "from sklearn.neural_network import MLPRegressor\n",
        "from sklearn.metrics import mean_squared_error, mean_absolute_error, r2_score\n",
        "from math import sqrt"
      ]
    },
    {
      "cell_type": "code",
      "execution_count": 31,
      "metadata": {
        "id": "a2gzK83binbX"
      },
      "outputs": [],
      "source": [
        "import warnings\n",
        "warnings.filterwarnings('ignore')"
      ]
    },
    {
      "cell_type": "markdown",
      "metadata": {
        "id": "-KRnraWLinbX"
      },
      "source": [
        "## 1. Entendimiento de los datos"
      ]
    },
    {
      "cell_type": "markdown",
      "metadata": {
        "id": "QwRcRc4iinbY"
      },
      "source": [
        "Cargamos los datos para entenderlos"
      ]
    },
    {
      "cell_type": "code",
      "execution_count": 32,
      "metadata": {
        "id": "Cn7Puab6inbY",
        "outputId": "203c2e70-1afe-4352-bde0-e248e7f8855e",
        "colab": {
          "base_uri": "https://localhost:8080/",
          "height": 224
        }
      },
      "outputs": [
        {
          "output_type": "stream",
          "name": "stdout",
          "text": [
            "(144, 2)\n"
          ]
        },
        {
          "output_type": "execute_result",
          "data": {
            "text/plain": [
              "     Month  #Passengers\n",
              "0  1949-01          112\n",
              "1  1949-02          118\n",
              "2  1949-03          132\n",
              "3  1949-04          129\n",
              "4  1949-05          121"
            ],
            "text/html": [
              "\n",
              "  <div id=\"df-6a86a201-5c66-43b6-95ff-f2bbba06dca3\" class=\"colab-df-container\">\n",
              "    <div>\n",
              "<style scoped>\n",
              "    .dataframe tbody tr th:only-of-type {\n",
              "        vertical-align: middle;\n",
              "    }\n",
              "\n",
              "    .dataframe tbody tr th {\n",
              "        vertical-align: top;\n",
              "    }\n",
              "\n",
              "    .dataframe thead th {\n",
              "        text-align: right;\n",
              "    }\n",
              "</style>\n",
              "<table border=\"1\" class=\"dataframe\">\n",
              "  <thead>\n",
              "    <tr style=\"text-align: right;\">\n",
              "      <th></th>\n",
              "      <th>Month</th>\n",
              "      <th>#Passengers</th>\n",
              "    </tr>\n",
              "  </thead>\n",
              "  <tbody>\n",
              "    <tr>\n",
              "      <th>0</th>\n",
              "      <td>1949-01</td>\n",
              "      <td>112</td>\n",
              "    </tr>\n",
              "    <tr>\n",
              "      <th>1</th>\n",
              "      <td>1949-02</td>\n",
              "      <td>118</td>\n",
              "    </tr>\n",
              "    <tr>\n",
              "      <th>2</th>\n",
              "      <td>1949-03</td>\n",
              "      <td>132</td>\n",
              "    </tr>\n",
              "    <tr>\n",
              "      <th>3</th>\n",
              "      <td>1949-04</td>\n",
              "      <td>129</td>\n",
              "    </tr>\n",
              "    <tr>\n",
              "      <th>4</th>\n",
              "      <td>1949-05</td>\n",
              "      <td>121</td>\n",
              "    </tr>\n",
              "  </tbody>\n",
              "</table>\n",
              "</div>\n",
              "    <div class=\"colab-df-buttons\">\n",
              "\n",
              "  <div class=\"colab-df-container\">\n",
              "    <button class=\"colab-df-convert\" onclick=\"convertToInteractive('df-6a86a201-5c66-43b6-95ff-f2bbba06dca3')\"\n",
              "            title=\"Convert this dataframe to an interactive table.\"\n",
              "            style=\"display:none;\">\n",
              "\n",
              "  <svg xmlns=\"http://www.w3.org/2000/svg\" height=\"24px\" viewBox=\"0 -960 960 960\">\n",
              "    <path d=\"M120-120v-720h720v720H120Zm60-500h600v-160H180v160Zm220 220h160v-160H400v160Zm0 220h160v-160H400v160ZM180-400h160v-160H180v160Zm440 0h160v-160H620v160ZM180-180h160v-160H180v160Zm440 0h160v-160H620v160Z\"/>\n",
              "  </svg>\n",
              "    </button>\n",
              "\n",
              "  <style>\n",
              "    .colab-df-container {\n",
              "      display:flex;\n",
              "      gap: 12px;\n",
              "    }\n",
              "\n",
              "    .colab-df-convert {\n",
              "      background-color: #E8F0FE;\n",
              "      border: none;\n",
              "      border-radius: 50%;\n",
              "      cursor: pointer;\n",
              "      display: none;\n",
              "      fill: #1967D2;\n",
              "      height: 32px;\n",
              "      padding: 0 0 0 0;\n",
              "      width: 32px;\n",
              "    }\n",
              "\n",
              "    .colab-df-convert:hover {\n",
              "      background-color: #E2EBFA;\n",
              "      box-shadow: 0px 1px 2px rgba(60, 64, 67, 0.3), 0px 1px 3px 1px rgba(60, 64, 67, 0.15);\n",
              "      fill: #174EA6;\n",
              "    }\n",
              "\n",
              "    .colab-df-buttons div {\n",
              "      margin-bottom: 4px;\n",
              "    }\n",
              "\n",
              "    [theme=dark] .colab-df-convert {\n",
              "      background-color: #3B4455;\n",
              "      fill: #D2E3FC;\n",
              "    }\n",
              "\n",
              "    [theme=dark] .colab-df-convert:hover {\n",
              "      background-color: #434B5C;\n",
              "      box-shadow: 0px 1px 3px 1px rgba(0, 0, 0, 0.15);\n",
              "      filter: drop-shadow(0px 1px 2px rgba(0, 0, 0, 0.3));\n",
              "      fill: #FFFFFF;\n",
              "    }\n",
              "  </style>\n",
              "\n",
              "    <script>\n",
              "      const buttonEl =\n",
              "        document.querySelector('#df-6a86a201-5c66-43b6-95ff-f2bbba06dca3 button.colab-df-convert');\n",
              "      buttonEl.style.display =\n",
              "        google.colab.kernel.accessAllowed ? 'block' : 'none';\n",
              "\n",
              "      async function convertToInteractive(key) {\n",
              "        const element = document.querySelector('#df-6a86a201-5c66-43b6-95ff-f2bbba06dca3');\n",
              "        const dataTable =\n",
              "          await google.colab.kernel.invokeFunction('convertToInteractive',\n",
              "                                                    [key], {});\n",
              "        if (!dataTable) return;\n",
              "\n",
              "        const docLinkHtml = 'Like what you see? Visit the ' +\n",
              "          '<a target=\"_blank\" href=https://colab.research.google.com/notebooks/data_table.ipynb>data table notebook</a>'\n",
              "          + ' to learn more about interactive tables.';\n",
              "        element.innerHTML = '';\n",
              "        dataTable['output_type'] = 'display_data';\n",
              "        await google.colab.output.renderOutput(dataTable, element);\n",
              "        const docLink = document.createElement('div');\n",
              "        docLink.innerHTML = docLinkHtml;\n",
              "        element.appendChild(docLink);\n",
              "      }\n",
              "    </script>\n",
              "  </div>\n",
              "\n",
              "\n",
              "<div id=\"df-bbe19628-e891-440b-b340-ccf620045728\">\n",
              "  <button class=\"colab-df-quickchart\" onclick=\"quickchart('df-bbe19628-e891-440b-b340-ccf620045728')\"\n",
              "            title=\"Suggest charts\"\n",
              "            style=\"display:none;\">\n",
              "\n",
              "<svg xmlns=\"http://www.w3.org/2000/svg\" height=\"24px\"viewBox=\"0 0 24 24\"\n",
              "     width=\"24px\">\n",
              "    <g>\n",
              "        <path d=\"M19 3H5c-1.1 0-2 .9-2 2v14c0 1.1.9 2 2 2h14c1.1 0 2-.9 2-2V5c0-1.1-.9-2-2-2zM9 17H7v-7h2v7zm4 0h-2V7h2v10zm4 0h-2v-4h2v4z\"/>\n",
              "    </g>\n",
              "</svg>\n",
              "  </button>\n",
              "\n",
              "<style>\n",
              "  .colab-df-quickchart {\n",
              "      --bg-color: #E8F0FE;\n",
              "      --fill-color: #1967D2;\n",
              "      --hover-bg-color: #E2EBFA;\n",
              "      --hover-fill-color: #174EA6;\n",
              "      --disabled-fill-color: #AAA;\n",
              "      --disabled-bg-color: #DDD;\n",
              "  }\n",
              "\n",
              "  [theme=dark] .colab-df-quickchart {\n",
              "      --bg-color: #3B4455;\n",
              "      --fill-color: #D2E3FC;\n",
              "      --hover-bg-color: #434B5C;\n",
              "      --hover-fill-color: #FFFFFF;\n",
              "      --disabled-bg-color: #3B4455;\n",
              "      --disabled-fill-color: #666;\n",
              "  }\n",
              "\n",
              "  .colab-df-quickchart {\n",
              "    background-color: var(--bg-color);\n",
              "    border: none;\n",
              "    border-radius: 50%;\n",
              "    cursor: pointer;\n",
              "    display: none;\n",
              "    fill: var(--fill-color);\n",
              "    height: 32px;\n",
              "    padding: 0;\n",
              "    width: 32px;\n",
              "  }\n",
              "\n",
              "  .colab-df-quickchart:hover {\n",
              "    background-color: var(--hover-bg-color);\n",
              "    box-shadow: 0 1px 2px rgba(60, 64, 67, 0.3), 0 1px 3px 1px rgba(60, 64, 67, 0.15);\n",
              "    fill: var(--button-hover-fill-color);\n",
              "  }\n",
              "\n",
              "  .colab-df-quickchart-complete:disabled,\n",
              "  .colab-df-quickchart-complete:disabled:hover {\n",
              "    background-color: var(--disabled-bg-color);\n",
              "    fill: var(--disabled-fill-color);\n",
              "    box-shadow: none;\n",
              "  }\n",
              "\n",
              "  .colab-df-spinner {\n",
              "    border: 2px solid var(--fill-color);\n",
              "    border-color: transparent;\n",
              "    border-bottom-color: var(--fill-color);\n",
              "    animation:\n",
              "      spin 1s steps(1) infinite;\n",
              "  }\n",
              "\n",
              "  @keyframes spin {\n",
              "    0% {\n",
              "      border-color: transparent;\n",
              "      border-bottom-color: var(--fill-color);\n",
              "      border-left-color: var(--fill-color);\n",
              "    }\n",
              "    20% {\n",
              "      border-color: transparent;\n",
              "      border-left-color: var(--fill-color);\n",
              "      border-top-color: var(--fill-color);\n",
              "    }\n",
              "    30% {\n",
              "      border-color: transparent;\n",
              "      border-left-color: var(--fill-color);\n",
              "      border-top-color: var(--fill-color);\n",
              "      border-right-color: var(--fill-color);\n",
              "    }\n",
              "    40% {\n",
              "      border-color: transparent;\n",
              "      border-right-color: var(--fill-color);\n",
              "      border-top-color: var(--fill-color);\n",
              "    }\n",
              "    60% {\n",
              "      border-color: transparent;\n",
              "      border-right-color: var(--fill-color);\n",
              "    }\n",
              "    80% {\n",
              "      border-color: transparent;\n",
              "      border-right-color: var(--fill-color);\n",
              "      border-bottom-color: var(--fill-color);\n",
              "    }\n",
              "    90% {\n",
              "      border-color: transparent;\n",
              "      border-bottom-color: var(--fill-color);\n",
              "    }\n",
              "  }\n",
              "</style>\n",
              "\n",
              "  <script>\n",
              "    async function quickchart(key) {\n",
              "      const quickchartButtonEl =\n",
              "        document.querySelector('#' + key + ' button');\n",
              "      quickchartButtonEl.disabled = true;  // To prevent multiple clicks.\n",
              "      quickchartButtonEl.classList.add('colab-df-spinner');\n",
              "      try {\n",
              "        const charts = await google.colab.kernel.invokeFunction(\n",
              "            'suggestCharts', [key], {});\n",
              "      } catch (error) {\n",
              "        console.error('Error during call to suggestCharts:', error);\n",
              "      }\n",
              "      quickchartButtonEl.classList.remove('colab-df-spinner');\n",
              "      quickchartButtonEl.classList.add('colab-df-quickchart-complete');\n",
              "    }\n",
              "    (() => {\n",
              "      let quickchartButtonEl =\n",
              "        document.querySelector('#df-bbe19628-e891-440b-b340-ccf620045728 button');\n",
              "      quickchartButtonEl.style.display =\n",
              "        google.colab.kernel.accessAllowed ? 'block' : 'none';\n",
              "    })();\n",
              "  </script>\n",
              "</div>\n",
              "    </div>\n",
              "  </div>\n"
            ],
            "application/vnd.google.colaboratory.intrinsic+json": {
              "type": "dataframe",
              "variable_name": "df",
              "summary": "{\n  \"name\": \"df\",\n  \"rows\": 144,\n  \"fields\": [\n    {\n      \"column\": \"Month\",\n      \"properties\": {\n        \"dtype\": \"object\",\n        \"num_unique_values\": 144,\n        \"samples\": [\n          \"1958-10\",\n          \"1950-08\",\n          \"1955-11\"\n        ],\n        \"semantic_type\": \"\",\n        \"description\": \"\"\n      }\n    },\n    {\n      \"column\": \"#Passengers\",\n      \"properties\": {\n        \"dtype\": \"number\",\n        \"std\": 119,\n        \"min\": 104,\n        \"max\": 622,\n        \"num_unique_values\": 118,\n        \"samples\": [\n          293,\n          340,\n          121\n        ],\n        \"semantic_type\": \"\",\n        \"description\": \"\"\n      }\n    }\n  ]\n}"
            }
          },
          "metadata": {},
          "execution_count": 32
        }
      ],
      "source": [
        "AirPassengers = 'https://raw.githubusercontent.com/cam2149/MachineLearningV/refs/heads/main/01-02-AirPassengers.csv'\n",
        "df = pd.read_csv(AirPassengers, sep=',', na_values=\".\")\n",
        "print(df.shape)\n",
        "df.head(5)"
      ]
    },
    {
      "cell_type": "markdown",
      "metadata": {
        "id": "NCBsAGSRinbZ"
      },
      "source": [
        "Vamos a modificar el nombre de las variables (\"#Passengers\" no nos permite acceder fácilmente a esa columna del dataframe)."
      ]
    },
    {
      "cell_type": "code",
      "execution_count": 33,
      "metadata": {
        "id": "8aILyqK1inbZ"
      },
      "outputs": [],
      "source": [
        "df.columns = ['Mes', 'Pasajeros']"
      ]
    },
    {
      "cell_type": "code",
      "execution_count": 34,
      "metadata": {
        "id": "TmXKNgBjinba",
        "outputId": "83461cd2-a1f0-4071-84a8-9725b2899e8a",
        "colab": {
          "base_uri": "https://localhost:8080/"
        }
      },
      "outputs": [
        {
          "output_type": "execute_result",
          "data": {
            "text/plain": [
              "144"
            ]
          },
          "metadata": {},
          "execution_count": 34
        }
      ],
      "source": [
        "df.shape[0]"
      ]
    },
    {
      "cell_type": "markdown",
      "metadata": {
        "id": "OJGC9PZ_inba"
      },
      "source": [
        "Tenemos 144 datos, correspondientes a los números de pasajeros mensuales en los últimos 12 años. Visualicemos los datos para buscar patrones."
      ]
    },
    {
      "cell_type": "code",
      "execution_count": 35,
      "metadata": {
        "id": "dLwkdcQrinba",
        "outputId": "6005cd98-9ac5-477d-f72f-d5d46ed5ba8d",
        "colab": {
          "base_uri": "https://localhost:8080/",
          "height": 685
        }
      },
      "outputs": [
        {
          "output_type": "display_data",
          "data": {
            "text/plain": [
              "<Figure size 1400x700 with 1 Axes>"
            ],
            "image/png": "[encoded data removed]"
          },
          "metadata": {}
        }
      ],
      "source": [
        "plt.figure(figsize=(14,7))\n",
        "ax = plt.gca() # get current axis\n",
        "plt.plot(df.Mes, df.Pasajeros)\n",
        "plt.xlabel('Mes')\n",
        "plt.ylabel('Número de pasajeros')\n",
        "plt.title('Evolución del número de pasajeros en función del mes')\n",
        "plt.xticks(np.arange(0,144,12), rotation=90)\n",
        "plt.show()"
      ]
    },
    {
      "cell_type": "markdown",
      "metadata": {
        "id": "ABBobXzOinbb"
      },
      "source": [
        "Nos salta a la vista la estacionalidad de los datos y la tendencia creciente."
      ]
    },
    {
      "cell_type": "markdown",
      "metadata": {
        "id": "QI5C_Pg5inbb"
      },
      "source": [
        "## 2. Preparación de los datos"
      ]
    },
    {
      "cell_type": "markdown",
      "metadata": {
        "id": "xSIskNWHinbb"
      },
      "source": [
        "Tenemos unos datos representados por una serie de tiempo univariada.\n",
        "\n",
        "Al utilizar un modelo de redes neuronales con capas densas feed-forward para realizar pronósticos sobre series temporales univariadas, necesitamos configurar sus capas de entrada y de salida con respecto a lo que se espera del modelo. Hay diferentes aproximaciones posibles a considerar, con respecto al número de modelos que se van a desarrollar, a si se quiere un modelo con varios pronósticos al mismo tiempo o no, y a si se quieren tener en cuenta recursivamente o no las predicciones de modelos anteriores."
      ]
    },
    {
      "cell_type": "markdown",
      "metadata": {
        "id": "hb5dE3seinbb"
      },
      "source": [
        "El número de neuronas de la capa de entrada debe establecerse con respecto a la ventana temporal de periodos contiguos que nos permitirán realizar el pronóstico.\n",
        "\n",
        "En el enfoque que vamos a adoptar, los inputs de la red neuronal van a representar los valores de la variable a pronosticar un cierto número de periodos atrás en el tiempo.\n",
        "Por ejemplo, con 6 neuronas, podemos tener en cuenta la información de 6 periodos contiguos (en este caso los 6 meses anteriores), uno por cada neurona.\n",
        "Esto tiene como implicación que tenemos que **transformar los datos univariados** en particiones con tantos periodos contiguos como neuronas de entrada.\n",
        "Otro enfoque podría ser considerar una mezcla de unos cuantos periodos contiguos anteriores con otros periodos separados.\n",
        "Por ejemplo, podríamos tener 2 neuronas para considerar los datos de los 2 meses anteriores, junto con los de 6, 12, 18 y 24 meses atrás.\n"
      ]
    },
    {
      "cell_type": "markdown",
      "metadata": {
        "id": "Aq4r_krninbc"
      },
      "source": [
        "Definimos también que vamos a pronosticar un solo periodo en el futuro, por lo que solo necesitaremos una neurona de salida. Se trata de un modelo de redes neuronales tradicional que se puede implementar con un estimador **MLPRegressor** del paquete **scikit-learn**.\n",
        "\n",
        "Como con el caso de las entradas, podríamos definir varios periodos futuros de salida, pero para eso ya tendríamos que utilizar **PyTorch**, u otro framework mas flexible, para poder especificar la topología particular que difiere de la de una red neuronal tradicional al tener múltiples neuronas en la capa de salida."
      ]
    },
    {
      "cell_type": "markdown",
      "metadata": {
        "id": "7jYLna4-inbc"
      },
      "source": [
        "La siguiente función (tomada de https://machinelearningmastery.com/deep-learning-for-time-series-forecasting/) nos permite obtener particionamientos de periodos contiguos en la serie de datos."
      ]
    },
    {
      "cell_type": "code",
      "execution_count": 36,
      "metadata": {
        "id": "xWzqL_FUinbc"
      },
      "outputs": [],
      "source": [
        "def split_sequence(sequence, n_steps):\n",
        "    \"\"\"\n",
        "    Particiona una secuencia de datos en instancias compuestas por\n",
        "    - una secuencia contigua de predictores (del largo especificado)\n",
        "    - el correspondiente siguiente valor que será tratado como variable objetivo en un modelo predictivo\n",
        "\n",
        "    :sequence:\n",
        "        la serie de tiempo de origen\n",
        "    :n_steps:\n",
        "        largo de la secuencia de predicción\n",
        "    \"\"\"\n",
        "\n",
        "    X, y = list(), list() # se crean listas vacías donde agregaremos los valores de las variables predictivas (X)\n",
        "                          # y de la variable objetivo (y)\n",
        "\n",
        "    for i in range(len(sequence)): # recorremos la serie de tiempo posición por posición\n",
        "        # Se obtiene el índice del final de la secuencia de datos con los valores de las variables predictivas (X)\n",
        "        end_ix = i + n_steps\n",
        "        # condición de salida: no alcanzamos a obtener los datos de \"X\" y \"y\"\n",
        "        if end_ix > len(sequence)-1:\n",
        "            break\n",
        "        # creamos los datos de la instancia del periodo actual, los periodos del \"X\" y el periodo a predicir \"y\"\n",
        "        # y los agregamos a las listas correspondientes\n",
        "        seq_x, seq_y = sequence[i:end_ix], sequence[end_ix]\n",
        "        X.append(seq_x)\n",
        "        y.append(seq_y)\n",
        "    return np.array(X), np.array(y) # retornamos una tupla con los datos de la instancia"
      ]
    },
    {
      "cell_type": "markdown",
      "metadata": {
        "id": "JPqm95yrinbd"
      },
      "source": [
        "Por ejemplo, considerando los 6 meses anteriores para predecir el 7o, un dataset de 12 meses va a producir 6 instancias para el dataset de entrenamiento, donde tendremos como entradas los meses de enero a junio para predecir julio, los meses de febrero a julio para predecir agosto, y así sucesivamente."
      ]
    },
    {
      "cell_type": "code",
      "execution_count": 37,
      "metadata": {
        "id": "QJD7j9jUinbd",
        "outputId": "6b71b05f-704b-4d44-ad41-775c514b0226",
        "colab": {
          "base_uri": "https://localhost:8080/",
          "height": 460
        }
      },
      "outputs": [
        {
          "output_type": "execute_result",
          "data": {
            "text/plain": [
              "0     1949-01\n",
              "1     1949-02\n",
              "2     1949-03\n",
              "3     1949-04\n",
              "4     1949-05\n",
              "5     1949-06\n",
              "6     1949-07\n",
              "7     1949-08\n",
              "8     1949-09\n",
              "9     1949-10\n",
              "10    1949-11\n",
              "11    1949-12\n",
              "Name: Mes, dtype: object"
            ],
            "text/html": [
              "<div>\n",
              "<style scoped>\n",
              "    .dataframe tbody tr th:only-of-type {\n",
              "        vertical-align: middle;\n",
              "    }\n",
              "\n",
              "    .dataframe tbody tr th {\n",
              "        vertical-align: top;\n",
              "    }\n",
              "\n",
              "    .dataframe thead th {\n",
              "        text-align: right;\n",
              "    }\n",
              "</style>\n",
              "<table border=\"1\" class=\"dataframe\">\n",
              "  <thead>\n",
              "    <tr style=\"text-align: right;\">\n",
              "      <th></th>\n",
              "      <th>Mes</th>\n",
              "    </tr>\n",
              "  </thead>\n",
              "  <tbody>\n",
              "    <tr>\n",
              "      <th>0</th>\n",
              "      <td>1949-01</td>\n",
              "    </tr>\n",
              "    <tr>\n",
              "      <th>1</th>\n",
              "      <td>1949-02</td>\n",
              "    </tr>\n",
              "    <tr>\n",
              "      <th>2</th>\n",
              "      <td>1949-03</td>\n",
              "    </tr>\n",
              "    <tr>\n",
              "      <th>3</th>\n",
              "      <td>1949-04</td>\n",
              "    </tr>\n",
              "    <tr>\n",
              "      <th>4</th>\n",
              "      <td>1949-05</td>\n",
              "    </tr>\n",
              "    <tr>\n",
              "      <th>5</th>\n",
              "      <td>1949-06</td>\n",
              "    </tr>\n",
              "    <tr>\n",
              "      <th>6</th>\n",
              "      <td>1949-07</td>\n",
              "    </tr>\n",
              "    <tr>\n",
              "      <th>7</th>\n",
              "      <td>1949-08</td>\n",
              "    </tr>\n",
              "    <tr>\n",
              "      <th>8</th>\n",
              "      <td>1949-09</td>\n",
              "    </tr>\n",
              "    <tr>\n",
              "      <th>9</th>\n",
              "      <td>1949-10</td>\n",
              "    </tr>\n",
              "    <tr>\n",
              "      <th>10</th>\n",
              "      <td>1949-11</td>\n",
              "    </tr>\n",
              "    <tr>\n",
              "      <th>11</th>\n",
              "      <td>1949-12</td>\n",
              "    </tr>\n",
              "  </tbody>\n",
              "</table>\n",
              "</div><br><label><b>dtype:</b> object</label>"
            ]
          },
          "metadata": {},
          "execution_count": 37
        }
      ],
      "source": [
        "df.iloc[0:12, 0]"
      ]
    },
    {
      "cell_type": "code",
      "execution_count": 38,
      "metadata": {
        "id": "6yVBgkPUinbd",
        "outputId": "3123f188-1efa-4b14-e28a-849c7a5f16f1",
        "colab": {
          "base_uri": "https://localhost:8080/"
        }
      },
      "outputs": [
        {
          "output_type": "stream",
          "name": "stdout",
          "text": [
            "['1949-01' '1949-02' '1949-03' '1949-04' '1949-05' '1949-06'] 1949-07\n",
            "['1949-02' '1949-03' '1949-04' '1949-05' '1949-06' '1949-07'] 1949-08\n",
            "['1949-03' '1949-04' '1949-05' '1949-06' '1949-07' '1949-08'] 1949-09\n",
            "['1949-04' '1949-05' '1949-06' '1949-07' '1949-08' '1949-09'] 1949-10\n",
            "['1949-05' '1949-06' '1949-07' '1949-08' '1949-09' '1949-10'] 1949-11\n",
            "['1949-06' '1949-07' '1949-08' '1949-09' '1949-10' '1949-11'] 1949-12\n"
          ]
        }
      ],
      "source": [
        "X, y = split_sequence(df.iloc[0:12, 0], 6)\n",
        "for i in range(len(X)):\n",
        "    print(X[i], y[i])"
      ]
    },
    {
      "cell_type": "markdown",
      "metadata": {
        "id": "aCD-vSIDinbe"
      },
      "source": [
        "Creamos ahora nuestro dataset completo, sobre los datos del número de pasajeros. El numero de pasos a considerar lo vamos a establecer en 12, ya que se trata de datos anuales, y podemos encontrar evidencias visuales de ciclos de 12 datos en la exploración visual.\n",
        "\n",
        "X va a contener los valores de la varible número de pasajeros de los 12 meses anteriores al valor contenido por y.\n",
        "Adicionalmente, necesitamos tener saber el mes correspondiente al Y predicho."
      ]
    },
    {
      "cell_type": "code",
      "execution_count": 39,
      "metadata": {
        "id": "6I4blowqinbe"
      },
      "outputs": [],
      "source": [
        "pasos = 12"
      ]
    },
    {
      "cell_type": "code",
      "execution_count": 40,
      "metadata": {
        "id": "vcQq5eZDinbf"
      },
      "outputs": [],
      "source": [
        "X, y = split_sequence(df.iloc[:, 1], pasos)"
      ]
    },
    {
      "cell_type": "code",
      "execution_count": 41,
      "metadata": {
        "id": "QqL-IncLinbf",
        "outputId": "964539e2-b4c6-4b7a-e376-7bcbfa35746f",
        "colab": {
          "base_uri": "https://localhost:8080/",
          "height": 458
        }
      },
      "outputs": [
        {
          "output_type": "execute_result",
          "data": {
            "text/plain": [
              "12     1950-01\n",
              "13     1950-02\n",
              "14     1950-03\n",
              "15     1950-04\n",
              "16     1950-05\n",
              "        ...   \n",
              "139    1960-08\n",
              "140    1960-09\n",
              "141    1960-10\n",
              "142    1960-11\n",
              "143    1960-12\n",
              "Name: Mes, Length: 132, dtype: object"
            ],
            "text/html": [
              "<div>\n",
              "<style scoped>\n",
              "    .dataframe tbody tr th:only-of-type {\n",
              "        vertical-align: middle;\n",
              "    }\n",
              "\n",
              "    .dataframe tbody tr th {\n",
              "        vertical-align: top;\n",
              "    }\n",
              "\n",
              "    .dataframe thead th {\n",
              "        text-align: right;\n",
              "    }\n",
              "</style>\n",
              "<table border=\"1\" class=\"dataframe\">\n",
              "  <thead>\n",
              "    <tr style=\"text-align: right;\">\n",
              "      <th></th>\n",
              "      <th>Mes</th>\n",
              "    </tr>\n",
              "  </thead>\n",
              "  <tbody>\n",
              "    <tr>\n",
              "      <th>12</th>\n",
              "      <td>1950-01</td>\n",
              "    </tr>\n",
              "    <tr>\n",
              "      <th>13</th>\n",
              "      <td>1950-02</td>\n",
              "    </tr>\n",
              "    <tr>\n",
              "      <th>14</th>\n",
              "      <td>1950-03</td>\n",
              "    </tr>\n",
              "    <tr>\n",
              "      <th>15</th>\n",
              "      <td>1950-04</td>\n",
              "    </tr>\n",
              "    <tr>\n",
              "      <th>16</th>\n",
              "      <td>1950-05</td>\n",
              "    </tr>\n",
              "    <tr>\n",
              "      <th>...</th>\n",
              "      <td>...</td>\n",
              "    </tr>\n",
              "    <tr>\n",
              "      <th>139</th>\n",
              "      <td>1960-08</td>\n",
              "    </tr>\n",
              "    <tr>\n",
              "      <th>140</th>\n",
              "      <td>1960-09</td>\n",
              "    </tr>\n",
              "    <tr>\n",
              "      <th>141</th>\n",
              "      <td>1960-10</td>\n",
              "    </tr>\n",
              "    <tr>\n",
              "      <th>142</th>\n",
              "      <td>1960-11</td>\n",
              "    </tr>\n",
              "    <tr>\n",
              "      <th>143</th>\n",
              "      <td>1960-12</td>\n",
              "    </tr>\n",
              "  </tbody>\n",
              "</table>\n",
              "<p>132 rows × 1 columns</p>\n",
              "</div><br><label><b>dtype:</b> object</label>"
            ]
          },
          "metadata": {},
          "execution_count": 41
        }
      ],
      "source": [
        "meses_pronosticados = df.iloc[pasos:,0]\n",
        "meses_pronosticados"
      ]
    },
    {
      "cell_type": "code",
      "execution_count": 42,
      "metadata": {
        "id": "bkWhAGEtinbf",
        "outputId": "baf8c948-00be-4fa0-c6bc-454f2913ac34",
        "colab": {
          "base_uri": "https://localhost:8080/"
        }
      },
      "outputs": [
        {
          "output_type": "stream",
          "name": "stdout",
          "text": [
            "[112 118 132 129 121 135 148 148 136 119 104 118] 115\n",
            "[118 132 129 121 135 148 148 136 119 104 118 115] 126\n",
            "[132 129 121 135 148 148 136 119 104 118 115 126] 141\n",
            "[129 121 135 148 148 136 119 104 118 115 126 141] 135\n",
            "[121 135 148 148 136 119 104 118 115 126 141 135] 125\n",
            "[135 148 148 136 119 104 118 115 126 141 135 125] 149\n",
            "[148 148 136 119 104 118 115 126 141 135 125 149] 170\n",
            "[148 136 119 104 118 115 126 141 135 125 149 170] 170\n",
            "[136 119 104 118 115 126 141 135 125 149 170 170] 158\n",
            "[119 104 118 115 126 141 135 125 149 170 170 158] 133\n",
            "[104 118 115 126 141 135 125 149 170 170 158 133] 114\n",
            "[118 115 126 141 135 125 149 170 170 158 133 114] 140\n",
            "[115 126 141 135 125 149 170 170 158 133 114 140] 145\n",
            "[126 141 135 125 149 170 170 158 133 114 140 145] 150\n",
            "[141 135 125 149 170 170 158 133 114 140 145 150] 178\n",
            "[135 125 149 170 170 158 133 114 140 145 150 178] 163\n",
            "[125 149 170 170 158 133 114 140 145 150 178 163] 172\n",
            "[149 170 170 158 133 114 140 145 150 178 163 172] 178\n",
            "[170 170 158 133 114 140 145 150 178 163 172 178] 199\n",
            "[170 158 133 114 140 145 150 178 163 172 178 199] 199\n",
            "[158 133 114 140 145 150 178 163 172 178 199 199] 184\n",
            "[133 114 140 145 150 178 163 172 178 199 199 184] 162\n",
            "[114 140 145 150 178 163 172 178 199 199 184 162] 146\n",
            "[140 145 150 178 163 172 178 199 199 184 162 146] 166\n",
            "[145 150 178 163 172 178 199 199 184 162 146 166] 171\n",
            "[150 178 163 172 178 199 199 184 162 146 166 171] 180\n",
            "[178 163 172 178 199 199 184 162 146 166 171 180] 193\n",
            "[163 172 178 199 199 184 162 146 166 171 180 193] 181\n",
            "[172 178 199 199 184 162 146 166 171 180 193 181] 183\n",
            "[178 199 199 184 162 146 166 171 180 193 181 183] 218\n",
            "[199 199 184 162 146 166 171 180 193 181 183 218] 230\n",
            "[199 184 162 146 166 171 180 193 181 183 218 230] 242\n",
            "[184 162 146 166 171 180 193 181 183 218 230 242] 209\n",
            "[162 146 166 171 180 193 181 183 218 230 242 209] 191\n",
            "[146 166 171 180 193 181 183 218 230 242 209 191] 172\n",
            "[166 171 180 193 181 183 218 230 242 209 191 172] 194\n",
            "[171 180 193 181 183 218 230 242 209 191 172 194] 196\n",
            "[180 193 181 183 218 230 242 209 191 172 194 196] 196\n",
            "[193 181 183 218 230 242 209 191 172 194 196 196] 236\n",
            "[181 183 218 230 242 209 191 172 194 196 196 236] 235\n",
            "[183 218 230 242 209 191 172 194 196 196 236 235] 229\n",
            "[218 230 242 209 191 172 194 196 196 236 235 229] 243\n",
            "[230 242 209 191 172 194 196 196 236 235 229 243] 264\n",
            "[242 209 191 172 194 196 196 236 235 229 243 264] 272\n",
            "[209 191 172 194 196 196 236 235 229 243 264 272] 237\n",
            "[191 172 194 196 196 236 235 229 243 264 272 237] 211\n",
            "[172 194 196 196 236 235 229 243 264 272 237 211] 180\n",
            "[194 196 196 236 235 229 243 264 272 237 211 180] 201\n",
            "[196 196 236 235 229 243 264 272 237 211 180 201] 204\n",
            "[196 236 235 229 243 264 272 237 211 180 201 204] 188\n",
            "[236 235 229 243 264 272 237 211 180 201 204 188] 235\n",
            "[235 229 243 264 272 237 211 180 201 204 188 235] 227\n",
            "[229 243 264 272 237 211 180 201 204 188 235 227] 234\n",
            "[243 264 272 237 211 180 201 204 188 235 227 234] 264\n",
            "[264 272 237 211 180 201 204 188 235 227 234 264] 302\n",
            "[272 237 211 180 201 204 188 235 227 234 264 302] 293\n",
            "[237 211 180 201 204 188 235 227 234 264 302 293] 259\n",
            "[211 180 201 204 188 235 227 234 264 302 293 259] 229\n",
            "[180 201 204 188 235 227 234 264 302 293 259 229] 203\n",
            "[201 204 188 235 227 234 264 302 293 259 229 203] 229\n",
            "[204 188 235 227 234 264 302 293 259 229 203 229] 242\n",
            "[188 235 227 234 264 302 293 259 229 203 229 242] 233\n",
            "[235 227 234 264 302 293 259 229 203 229 242 233] 267\n",
            "[227 234 264 302 293 259 229 203 229 242 233 267] 269\n",
            "[234 264 302 293 259 229 203 229 242 233 267 269] 270\n",
            "[264 302 293 259 229 203 229 242 233 267 269 270] 315\n",
            "[302 293 259 229 203 229 242 233 267 269 270 315] 364\n",
            "[293 259 229 203 229 242 233 267 269 270 315 364] 347\n",
            "[259 229 203 229 242 233 267 269 270 315 364 347] 312\n",
            "[229 203 229 242 233 267 269 270 315 364 347 312] 274\n",
            "[203 229 242 233 267 269 270 315 364 347 312 274] 237\n",
            "[229 242 233 267 269 270 315 364 347 312 274 237] 278\n",
            "[242 233 267 269 270 315 364 347 312 274 237 278] 284\n",
            "[233 267 269 270 315 364 347 312 274 237 278 284] 277\n",
            "[267 269 270 315 364 347 312 274 237 278 284 277] 317\n",
            "[269 270 315 364 347 312 274 237 278 284 277 317] 313\n",
            "[270 315 364 347 312 274 237 278 284 277 317 313] 318\n",
            "[315 364 347 312 274 237 278 284 277 317 313 318] 374\n",
            "[364 347 312 274 237 278 284 277 317 313 318 374] 413\n",
            "[347 312 274 237 278 284 277 317 313 318 374 413] 405\n",
            "[312 274 237 278 284 277 317 313 318 374 413 405] 355\n",
            "[274 237 278 284 277 317 313 318 374 413 405 355] 306\n",
            "[237 278 284 277 317 313 318 374 413 405 355 306] 271\n",
            "[278 284 277 317 313 318 374 413 405 355 306 271] 306\n",
            "[284 277 317 313 318 374 413 405 355 306 271 306] 315\n",
            "[277 317 313 318 374 413 405 355 306 271 306 315] 301\n",
            "[317 313 318 374 413 405 355 306 271 306 315 301] 356\n",
            "[313 318 374 413 405 355 306 271 306 315 301 356] 348\n",
            "[318 374 413 405 355 306 271 306 315 301 356 348] 355\n",
            "[374 413 405 355 306 271 306 315 301 356 348 355] 422\n",
            "[413 405 355 306 271 306 315 301 356 348 355 422] 465\n",
            "[405 355 306 271 306 315 301 356 348 355 422 465] 467\n",
            "[355 306 271 306 315 301 356 348 355 422 465 467] 404\n",
            "[306 271 306 315 301 356 348 355 422 465 467 404] 347\n",
            "[271 306 315 301 356 348 355 422 465 467 404 347] 305\n",
            "[306 315 301 356 348 355 422 465 467 404 347 305] 336\n",
            "[315 301 356 348 355 422 465 467 404 347 305 336] 340\n",
            "[301 356 348 355 422 465 467 404 347 305 336 340] 318\n",
            "[356 348 355 422 465 467 404 347 305 336 340 318] 362\n",
            "[348 355 422 465 467 404 347 305 336 340 318 362] 348\n",
            "[355 422 465 467 404 347 305 336 340 318 362 348] 363\n",
            "[422 465 467 404 347 305 336 340 318 362 348 363] 435\n",
            "[465 467 404 347 305 336 340 318 362 348 363 435] 491\n",
            "[467 404 347 305 336 340 318 362 348 363 435 491] 505\n",
            "[404 347 305 336 340 318 362 348 363 435 491 505] 404\n",
            "[347 305 336 340 318 362 348 363 435 491 505 404] 359\n",
            "[305 336 340 318 362 348 363 435 491 505 404 359] 310\n",
            "[336 340 318 362 348 363 435 491 505 404 359 310] 337\n",
            "[340 318 362 348 363 435 491 505 404 359 310 337] 360\n",
            "[318 362 348 363 435 491 505 404 359 310 337 360] 342\n",
            "[362 348 363 435 491 505 404 359 310 337 360 342] 406\n",
            "[348 363 435 491 505 404 359 310 337 360 342 406] 396\n",
            "[363 435 491 505 404 359 310 337 360 342 406 396] 420\n",
            "[435 491 505 404 359 310 337 360 342 406 396 420] 472\n",
            "[491 505 404 359 310 337 360 342 406 396 420 472] 548\n",
            "[505 404 359 310 337 360 342 406 396 420 472 548] 559\n",
            "[404 359 310 337 360 342 406 396 420 472 548 559] 463\n",
            "[359 310 337 360 342 406 396 420 472 548 559 463] 407\n",
            "[310 337 360 342 406 396 420 472 548 559 463 407] 362\n",
            "[337 360 342 406 396 420 472 548 559 463 407 362] 405\n",
            "[360 342 406 396 420 472 548 559 463 407 362 405] 417\n",
            "[342 406 396 420 472 548 559 463 407 362 405 417] 391\n",
            "[406 396 420 472 548 559 463 407 362 405 417 391] 419\n",
            "[396 420 472 548 559 463 407 362 405 417 391 419] 461\n",
            "[420 472 548 559 463 407 362 405 417 391 419 461] 472\n",
            "[472 548 559 463 407 362 405 417 391 419 461 472] 535\n",
            "[548 559 463 407 362 405 417 391 419 461 472 535] 622\n",
            "[559 463 407 362 405 417 391 419 461 472 535 622] 606\n",
            "[463 407 362 405 417 391 419 461 472 535 622 606] 508\n",
            "[407 362 405 417 391 419 461 472 535 622 606 508] 461\n",
            "[362 405 417 391 419 461 472 535 622 606 508 461] 390\n",
            "[405 417 391 419 461 472 535 622 606 508 461 390] 432\n"
          ]
        }
      ],
      "source": [
        "for i in range(len(X)):\n",
        "    print(X[i], y[i])"
      ]
    },
    {
      "cell_type": "markdown",
      "metadata": {
        "id": "fTNIUKpDinbg"
      },
      "source": [
        "## 3. Modelamiento y evaluación"
      ]
    },
    {
      "cell_type": "markdown",
      "metadata": {
        "id": "dYV0kLw1inbg"
      },
      "source": [
        "Vamos a llevar a cabo diferentes evaluaciones del modelo."
      ]
    },
    {
      "cell_type": "markdown",
      "metadata": {
        "id": "kiKQWm1zinbg"
      },
      "source": [
        "### 3.1 Estimación de un paso, entrenando con un subconjunto fijo de datos"
      ]
    },
    {
      "cell_type": "markdown",
      "metadata": {
        "id": "LDEduIk8inbg"
      },
      "source": [
        "Ahora que ya tenemos los datos en la presentación correcta, vamos a separarlos en dos particiones, una para entrenamiento y otra para evaluación.\n",
        "\n",
        "Al tratarse de datos temporales, no tiene sentido particionar los datos de manera aleatoria, pues el orden de las secuencias de datos es importante. Vamos entonces a considerar una porción de los datos inicial, llamada *in-sample* para entrenar los modelos, seguida de la porción *out-of-sample*, que se utilizará para evaluar la capacidad predictiva.\n",
        "\n",
        "La idea con este primer modelo es ponerse en la situación de negocio en la que **cada paso de tiempo se necesita predecir lo que va a pasar el paso de tiempo siguiente**, por lo que solo se necesita estimar un único valor futuro, a partir de una ventana predictiva histórica en la que todos los datos son reales y conocidos."
      ]
    },
    {
      "cell_type": "markdown",
      "metadata": {
        "id": "XEmyW1xUinbh"
      },
      "source": [
        "Tenemos 132 instancias, vamos a dejar los últimos 12 meses para evaluación, entrenando sobre los primeros 10 años (120 meses)."
      ]
    },
    {
      "cell_type": "code",
      "execution_count": 43,
      "metadata": {
        "id": "xjCGWeYcinbh",
        "outputId": "d870f21d-8f21-4e37-d780-10b8e2e5af6b",
        "colab": {
          "base_uri": "https://localhost:8080/"
        }
      },
      "outputs": [
        {
          "output_type": "execute_result",
          "data": {
            "text/plain": [
              "(132, 12)"
            ]
          },
          "metadata": {},
          "execution_count": 43
        }
      ],
      "source": [
        "X.shape"
      ]
    },
    {
      "cell_type": "code",
      "execution_count": 44,
      "metadata": {
        "id": "5V02BFwninbh"
      },
      "outputs": [],
      "source": [
        "periodos_train =120\n",
        "periodos_test = X.shape[0]-periodos_train"
      ]
    },
    {
      "cell_type": "code",
      "execution_count": 45,
      "metadata": {
        "id": "v2Yg0y6Pinbi",
        "outputId": "55a0e198-b94e-4ccf-bcdd-633a7441426d",
        "colab": {
          "base_uri": "https://localhost:8080/"
        }
      },
      "outputs": [
        {
          "output_type": "execute_result",
          "data": {
            "text/plain": [
              "12"
            ]
          },
          "metadata": {},
          "execution_count": 45
        }
      ],
      "source": [
        "periodos_test"
      ]
    },
    {
      "cell_type": "code",
      "execution_count": 46,
      "metadata": {
        "id": "amCWAv6minbi",
        "outputId": "8be68406-1f35-43af-b7a9-502f12ac146c",
        "colab": {
          "base_uri": "https://localhost:8080/"
        }
      },
      "outputs": [
        {
          "output_type": "stream",
          "name": "stdout",
          "text": [
            "X_train: (120, 12), y_train: (120,)\n",
            "X_test: (12, 12), y_test: (12,)\n"
          ]
        }
      ],
      "source": [
        "X_train = X[:periodos_train]\n",
        "X_test = X[periodos_train:]\n",
        "y_train = y[:periodos_train]\n",
        "y_test = y[periodos_train:]\n",
        "meses_train = meses_pronosticados[:periodos_train]\n",
        "meses_test = meses_pronosticados[periodos_train:]\n",
        "print(\"X_train: {}, y_train: {}\\nX_test: {}, y_test: {}\".format(X_train.shape, y_train.shape, X_test.shape, y_test.shape))"
      ]
    },
    {
      "cell_type": "code",
      "execution_count": 47,
      "metadata": {
        "id": "oeyg7eDuinbi",
        "outputId": "5e63ab71-4cae-484f-e42b-504d84e7ba12",
        "colab": {
          "base_uri": "https://localhost:8080/"
        }
      },
      "outputs": [
        {
          "output_type": "execute_result",
          "data": {
            "text/plain": [
              "array([[360, 342, 406, 396, 420, 472, 548, 559, 463, 407, 362, 405],\n",
              "       [342, 406, 396, 420, 472, 548, 559, 463, 407, 362, 405, 417],\n",
              "       [406, 396, 420, 472, 548, 559, 463, 407, 362, 405, 417, 391],\n",
              "       [396, 420, 472, 548, 559, 463, 407, 362, 405, 417, 391, 419],\n",
              "       [420, 472, 548, 559, 463, 407, 362, 405, 417, 391, 419, 461],\n",
              "       [472, 548, 559, 463, 407, 362, 405, 417, 391, 419, 461, 472],\n",
              "       [548, 559, 463, 407, 362, 405, 417, 391, 419, 461, 472, 535],\n",
              "       [559, 463, 407, 362, 405, 417, 391, 419, 461, 472, 535, 622],\n",
              "       [463, 407, 362, 405, 417, 391, 419, 461, 472, 535, 622, 606],\n",
              "       [407, 362, 405, 417, 391, 419, 461, 472, 535, 622, 606, 508],\n",
              "       [362, 405, 417, 391, 419, 461, 472, 535, 622, 606, 508, 461],\n",
              "       [405, 417, 391, 419, 461, 472, 535, 622, 606, 508, 461, 390]])"
            ]
          },
          "metadata": {},
          "execution_count": 47
        }
      ],
      "source": [
        "X_test"
      ]
    },
    {
      "cell_type": "code",
      "execution_count": 48,
      "metadata": {
        "id": "gfk4q5hPinbj",
        "outputId": "62353c1a-cf7a-49ab-d24b-d70e180c378b",
        "colab": {
          "base_uri": "https://localhost:8080/",
          "height": 458
        }
      },
      "outputs": [
        {
          "output_type": "execute_result",
          "data": {
            "text/plain": [
              "12     1950-01\n",
              "13     1950-02\n",
              "14     1950-03\n",
              "15     1950-04\n",
              "16     1950-05\n",
              "        ...   \n",
              "127    1959-08\n",
              "128    1959-09\n",
              "129    1959-10\n",
              "130    1959-11\n",
              "131    1959-12\n",
              "Name: Mes, Length: 120, dtype: object"
            ],
            "text/html": [
              "<div>\n",
              "<style scoped>\n",
              "    .dataframe tbody tr th:only-of-type {\n",
              "        vertical-align: middle;\n",
              "    }\n",
              "\n",
              "    .dataframe tbody tr th {\n",
              "        vertical-align: top;\n",
              "    }\n",
              "\n",
              "    .dataframe thead th {\n",
              "        text-align: right;\n",
              "    }\n",
              "</style>\n",
              "<table border=\"1\" class=\"dataframe\">\n",
              "  <thead>\n",
              "    <tr style=\"text-align: right;\">\n",
              "      <th></th>\n",
              "      <th>Mes</th>\n",
              "    </tr>\n",
              "  </thead>\n",
              "  <tbody>\n",
              "    <tr>\n",
              "      <th>12</th>\n",
              "      <td>1950-01</td>\n",
              "    </tr>\n",
              "    <tr>\n",
              "      <th>13</th>\n",
              "      <td>1950-02</td>\n",
              "    </tr>\n",
              "    <tr>\n",
              "      <th>14</th>\n",
              "      <td>1950-03</td>\n",
              "    </tr>\n",
              "    <tr>\n",
              "      <th>15</th>\n",
              "      <td>1950-04</td>\n",
              "    </tr>\n",
              "    <tr>\n",
              "      <th>16</th>\n",
              "      <td>1950-05</td>\n",
              "    </tr>\n",
              "    <tr>\n",
              "      <th>...</th>\n",
              "      <td>...</td>\n",
              "    </tr>\n",
              "    <tr>\n",
              "      <th>127</th>\n",
              "      <td>1959-08</td>\n",
              "    </tr>\n",
              "    <tr>\n",
              "      <th>128</th>\n",
              "      <td>1959-09</td>\n",
              "    </tr>\n",
              "    <tr>\n",
              "      <th>129</th>\n",
              "      <td>1959-10</td>\n",
              "    </tr>\n",
              "    <tr>\n",
              "      <th>130</th>\n",
              "      <td>1959-11</td>\n",
              "    </tr>\n",
              "    <tr>\n",
              "      <th>131</th>\n",
              "      <td>1959-12</td>\n",
              "    </tr>\n",
              "  </tbody>\n",
              "</table>\n",
              "<p>120 rows × 1 columns</p>\n",
              "</div><br><label><b>dtype:</b> object</label>"
            ]
          },
          "metadata": {},
          "execution_count": 48
        }
      ],
      "source": [
        "meses_train"
      ]
    },
    {
      "cell_type": "markdown",
      "metadata": {
        "id": "mf3N9S61inbr"
      },
      "source": [
        "Entrenamos un modelo MLP regressor con los 120 meses."
      ]
    },
    {
      "cell_type": "code",
      "execution_count": 49,
      "metadata": {
        "id": "3F5TwXjHinbs",
        "outputId": "a1ee3cc7-7784-4a16-bf5e-d991e52f1be7",
        "colab": {
          "base_uri": "https://localhost:8080/",
          "height": 80
        }
      },
      "outputs": [
        {
          "output_type": "execute_result",
          "data": {
            "text/plain": [
              "MLPRegressor(hidden_layer_sizes=(10, 10, 10), max_iter=500)"
            ],
            "text/html": [
              "<style>#sk-container-id-2 {\n",
              "  /* Definition of color scheme common for light and dark mode */\n",
              "  --sklearn-color-text: #000;\n",
              "  --sklearn-color-text-muted: #666;\n",
              "  --sklearn-color-line: gray;\n",
              "  /* Definition of color scheme for unfitted estimators */\n",
              "  --sklearn-color-unfitted-level-0: #fff5e6;\n",
              "  --sklearn-color-unfitted-level-1: #f6e4d2;\n",
              "  --sklearn-color-unfitted-level-2: #ffe0b3;\n",
              "  --sklearn-color-unfitted-level-3: chocolate;\n",
              "  /* Definition of color scheme for fitted estimators */\n",
              "  --sklearn-color-fitted-level-0: #f0f8ff;\n",
              "  --sklearn-color-fitted-level-1: #d4ebff;\n",
              "  --sklearn-color-fitted-level-2: #b3dbfd;\n",
              "  --sklearn-color-fitted-level-3: cornflowerblue;\n",
              "\n",
              "  /* Specific color for light theme */\n",
              "  --sklearn-color-text-on-default-background: var(--sg-text-color, var(--theme-code-foreground, var(--jp-content-font-color1, black)));\n",
              "  --sklearn-color-background: var(--sg-background-color, var(--theme-background, var(--jp-layout-color0, white)));\n",
              "  --sklearn-color-border-box: var(--sg-text-color, var(--theme-code-foreground, var(--jp-content-font-color1, black)));\n",
              "  --sklearn-color-icon: #696969;\n",
              "\n",
              "  @media (prefers-color-scheme: dark) {\n",
              "    /* Redefinition of color scheme for dark theme */\n",
              "    --sklearn-color-text-on-default-background: var(--sg-text-color, var(--theme-code-foreground, var(--jp-content-font-color1, white)));\n",
              "    --sklearn-color-background: var(--sg-background-color, var(--theme-background, var(--jp-layout-color0, #111)));\n",
              "    --sklearn-color-border-box: var(--sg-text-color, var(--theme-code-foreground, var(--jp-content-font-color1, white)));\n",
              "    --sklearn-color-icon: #878787;\n",
              "  }\n",
              "}\n",
              "\n",
              "#sk-container-id-2 {\n",
              "  color: var(--sklearn-color-text);\n",
              "}\n",
              "\n",
              "#sk-container-id-2 pre {\n",
              "  padding: 0;\n",
              "}\n",
              "\n",
              "#sk-container-id-2 input.sk-hidden--visually {\n",
              "  border: 0;\n",
              "  clip: rect(1px 1px 1px 1px);\n",
              "  clip: rect(1px, 1px, 1px, 1px);\n",
              "  height: 1px;\n",
              "  margin: -1px;\n",
              "  overflow: hidden;\n",
              "  padding: 0;\n",
              "  position: absolute;\n",
              "  width: 1px;\n",
              "}\n",
              "\n",
              "#sk-container-id-2 div.sk-dashed-wrapped {\n",
              "  border: 1px dashed var(--sklearn-color-line);\n",
              "  margin: 0 0.4em 0.5em 0.4em;\n",
              "  box-sizing: border-box;\n",
              "  padding-bottom: 0.4em;\n",
              "  background-color: var(--sklearn-color-background);\n",
              "}\n",
              "\n",
              "#sk-container-id-2 div.sk-container {\n",
              "  /* jupyter's `normalize.less` sets `[hidden] { display: none; }`\n",
              "     but bootstrap.min.css set `[hidden] { display: none !important; }`\n",
              "     so we also need the `!important` here to be able to override the\n",
              "     default hidden behavior on the sphinx rendered scikit-learn.org.\n",
              "     See: https://github.com/scikit-learn/scikit-learn/issues/21755 */\n",
              "  display: inline-block !important;\n",
              "  position: relative;\n",
              "}\n",
              "\n",
              "#sk-container-id-2 div.sk-text-repr-fallback {\n",
              "  display: none;\n",
              "}\n",
              "\n",
              "div.sk-parallel-item,\n",
              "div.sk-serial,\n",
              "div.sk-item {\n",
              "  /* draw centered vertical line to link estimators */\n",
              "  background-image: linear-gradient(var(--sklearn-color-text-on-default-background), var(--sklearn-color-text-on-default-background));\n",
              "  background-size: 2px 100%;\n",
              "  background-repeat: no-repeat;\n",
              "  background-position: center center;\n",
              "}\n",
              "\n",
              "/* Parallel-specific style estimator block */\n",
              "\n",
              "#sk-container-id-2 div.sk-parallel-item::after {\n",
              "  content: \"\";\n",
              "  width: 100%;\n",
              "  border-bottom: 2px solid var(--sklearn-color-text-on-default-background);\n",
              "  flex-grow: 1;\n",
              "}\n",
              "\n",
              "#sk-container-id-2 div.sk-parallel {\n",
              "  display: flex;\n",
              "  align-items: stretch;\n",
              "  justify-content: center;\n",
              "  background-color: var(--sklearn-color-background);\n",
              "  position: relative;\n",
              "}\n",
              "\n",
              "#sk-container-id-2 div.sk-parallel-item {\n",
              "  display: flex;\n",
              "  flex-direction: column;\n",
              "}\n",
              "\n",
              "#sk-container-id-2 div.sk-parallel-item:first-child::after {\n",
              "  align-self: flex-end;\n",
              "  width: 50%;\n",
              "}\n",
              "\n",
              "#sk-container-id-2 div.sk-parallel-item:last-child::after {\n",
              "  align-self: flex-start;\n",
              "  width: 50%;\n",
              "}\n",
              "\n",
              "#sk-container-id-2 div.sk-parallel-item:only-child::after {\n",
              "  width: 0;\n",
              "}\n",
              "\n",
              "/* Serial-specific style estimator block */\n",
              "\n",
              "#sk-container-id-2 div.sk-serial {\n",
              "  display: flex;\n",
              "  flex-direction: column;\n",
              "  align-items: center;\n",
              "  background-color: var(--sklearn-color-background);\n",
              "  padding-right: 1em;\n",
              "  padding-left: 1em;\n",
              "}\n",
              "\n",
              "\n",
              "/* Toggleable style: style used for estimator/Pipeline/ColumnTransformer box that is\n",
              "clickable and can be expanded/collapsed.\n",
              "- Pipeline and ColumnTransformer use this feature and define the default style\n",
              "- Estimators will overwrite some part of the style using the `sk-estimator` class\n",
              "*/\n",
              "\n",
              "/* Pipeline and ColumnTransformer style (default) */\n",
              "\n",
              "#sk-container-id-2 div.sk-toggleable {\n",
              "  /* Default theme specific background. It is overwritten whether we have a\n",
              "  specific estimator or a Pipeline/ColumnTransformer */\n",
              "  background-color: var(--sklearn-color-background);\n",
              "}\n",
              "\n",
              "/* Toggleable label */\n",
              "#sk-container-id-2 label.sk-toggleable__label {\n",
              "  cursor: pointer;\n",
              "  display: flex;\n",
              "  width: 100%;\n",
              "  margin-bottom: 0;\n",
              "  padding: 0.5em;\n",
              "  box-sizing: border-box;\n",
              "  text-align: center;\n",
              "  align-items: start;\n",
              "  justify-content: space-between;\n",
              "  gap: 0.5em;\n",
              "}\n",
              "\n",
              "#sk-container-id-2 label.sk-toggleable__label .caption {\n",
              "  font-size: 0.6rem;\n",
              "  font-weight: lighter;\n",
              "  color: var(--sklearn-color-text-muted);\n",
              "}\n",
              "\n",
              "#sk-container-id-2 label.sk-toggleable__label-arrow:before {\n",
              "  /* Arrow on the left of the label */\n",
              "  content: \"▸\";\n",
              "  float: left;\n",
              "  margin-right: 0.25em;\n",
              "  color: var(--sklearn-color-icon);\n",
              "}\n",
              "\n",
              "#sk-container-id-2 label.sk-toggleable__label-arrow:hover:before {\n",
              "  color: var(--sklearn-color-text);\n",
              "}\n",
              "\n",
              "/* Toggleable content - dropdown */\n",
              "\n",
              "#sk-container-id-2 div.sk-toggleable__content {\n",
              "  max-height: 0;\n",
              "  max-width: 0;\n",
              "  overflow: hidden;\n",
              "  text-align: left;\n",
              "  /* unfitted */\n",
              "  background-color: var(--sklearn-color-unfitted-level-0);\n",
              "}\n",
              "\n",
              "#sk-container-id-2 div.sk-toggleable__content.fitted {\n",
              "  /* fitted */\n",
              "  background-color: var(--sklearn-color-fitted-level-0);\n",
              "}\n",
              "\n",
              "#sk-container-id-2 div.sk-toggleable__content pre {\n",
              "  margin: 0.2em;\n",
              "  border-radius: 0.25em;\n",
              "  color: var(--sklearn-color-text);\n",
              "  /* unfitted */\n",
              "  background-color: var(--sklearn-color-unfitted-level-0);\n",
              "}\n",
              "\n",
              "#sk-container-id-2 div.sk-toggleable__content.fitted pre {\n",
              "  /* unfitted */\n",
              "  background-color: var(--sklearn-color-fitted-level-0);\n",
              "}\n",
              "\n",
              "#sk-container-id-2 input.sk-toggleable__control:checked~div.sk-toggleable__content {\n",
              "  /* Expand drop-down */\n",
              "  max-height: 200px;\n",
              "  max-width: 100%;\n",
              "  overflow: auto;\n",
              "}\n",
              "\n",
              "#sk-container-id-2 input.sk-toggleable__control:checked~label.sk-toggleable__label-arrow:before {\n",
              "  content: \"▾\";\n",
              "}\n",
              "\n",
              "/* Pipeline/ColumnTransformer-specific style */\n",
              "\n",
              "#sk-container-id-2 div.sk-label input.sk-toggleable__control:checked~label.sk-toggleable__label {\n",
              "  color: var(--sklearn-color-text);\n",
              "  background-color: var(--sklearn-color-unfitted-level-2);\n",
              "}\n",
              "\n",
              "#sk-container-id-2 div.sk-label.fitted input.sk-toggleable__control:checked~label.sk-toggleable__label {\n",
              "  background-color: var(--sklearn-color-fitted-level-2);\n",
              "}\n",
              "\n",
              "/* Estimator-specific style */\n",
              "\n",
              "/* Colorize estimator box */\n",
              "#sk-container-id-2 div.sk-estimator input.sk-toggleable__control:checked~label.sk-toggleable__label {\n",
              "  /* unfitted */\n",
              "  background-color: var(--sklearn-color-unfitted-level-2);\n",
              "}\n",
              "\n",
              "#sk-container-id-2 div.sk-estimator.fitted input.sk-toggleable__control:checked~label.sk-toggleable__label {\n",
              "  /* fitted */\n",
              "  background-color: var(--sklearn-color-fitted-level-2);\n",
              "}\n",
              "\n",
              "#sk-container-id-2 div.sk-label label.sk-toggleable__label,\n",
              "#sk-container-id-2 div.sk-label label {\n",
              "  /* The background is the default theme color */\n",
              "  color: var(--sklearn-color-text-on-default-background);\n",
              "}\n",
              "\n",
              "/* On hover, darken the color of the background */\n",
              "#sk-container-id-2 div.sk-label:hover label.sk-toggleable__label {\n",
              "  color: var(--sklearn-color-text);\n",
              "  background-color: var(--sklearn-color-unfitted-level-2);\n",
              "}\n",
              "\n",
              "/* Label box, darken color on hover, fitted */\n",
              "#sk-container-id-2 div.sk-label.fitted:hover label.sk-toggleable__label.fitted {\n",
              "  color: var(--sklearn-color-text);\n",
              "  background-color: var(--sklearn-color-fitted-level-2);\n",
              "}\n",
              "\n",
              "/* Estimator label */\n",
              "\n",
              "#sk-container-id-2 div.sk-label label {\n",
              "  font-family: monospace;\n",
              "  font-weight: bold;\n",
              "  display: inline-block;\n",
              "  line-height: 1.2em;\n",
              "}\n",
              "\n",
              "#sk-container-id-2 div.sk-label-container {\n",
              "  text-align: center;\n",
              "}\n",
              "\n",
              "/* Estimator-specific */\n",
              "#sk-container-id-2 div.sk-estimator {\n",
              "  font-family: monospace;\n",
              "  border: 1px dotted var(--sklearn-color-border-box);\n",
              "  border-radius: 0.25em;\n",
              "  box-sizing: border-box;\n",
              "  margin-bottom: 0.5em;\n",
              "  /* unfitted */\n",
              "  background-color: var(--sklearn-color-unfitted-level-0);\n",
              "}\n",
              "\n",
              "#sk-container-id-2 div.sk-estimator.fitted {\n",
              "  /* fitted */\n",
              "  background-color: var(--sklearn-color-fitted-level-0);\n",
              "}\n",
              "\n",
              "/* on hover */\n",
              "#sk-container-id-2 div.sk-estimator:hover {\n",
              "  /* unfitted */\n",
              "  background-color: var(--sklearn-color-unfitted-level-2);\n",
              "}\n",
              "\n",
              "#sk-container-id-2 div.sk-estimator.fitted:hover {\n",
              "  /* fitted */\n",
              "  background-color: var(--sklearn-color-fitted-level-2);\n",
              "}\n",
              "\n",
              "/* Specification for estimator info (e.g. \"i\" and \"?\") */\n",
              "\n",
              "/* Common style for \"i\" and \"?\" */\n",
              "\n",
              ".sk-estimator-doc-link,\n",
              "a:link.sk-estimator-doc-link,\n",
              "a:visited.sk-estimator-doc-link {\n",
              "  float: right;\n",
              "  font-size: smaller;\n",
              "  line-height: 1em;\n",
              "  font-family: monospace;\n",
              "  background-color: var(--sklearn-color-background);\n",
              "  border-radius: 1em;\n",
              "  height: 1em;\n",
              "  width: 1em;\n",
              "  text-decoration: none !important;\n",
              "  margin-left: 0.5em;\n",
              "  text-align: center;\n",
              "  /* unfitted */\n",
              "  border: var(--sklearn-color-unfitted-level-1) 1pt solid;\n",
              "  color: var(--sklearn-color-unfitted-level-1);\n",
              "}\n",
              "\n",
              ".sk-estimator-doc-link.fitted,\n",
              "a:link.sk-estimator-doc-link.fitted,\n",
              "a:visited.sk-estimator-doc-link.fitted {\n",
              "  /* fitted */\n",
              "  border: var(--sklearn-color-fitted-level-1) 1pt solid;\n",
              "  color: var(--sklearn-color-fitted-level-1);\n",
              "}\n",
              "\n",
              "/* On hover */\n",
              "div.sk-estimator:hover .sk-estimator-doc-link:hover,\n",
              ".sk-estimator-doc-link:hover,\n",
              "div.sk-label-container:hover .sk-estimator-doc-link:hover,\n",
              ".sk-estimator-doc-link:hover {\n",
              "  /* unfitted */\n",
              "  background-color: var(--sklearn-color-unfitted-level-3);\n",
              "  color: var(--sklearn-color-background);\n",
              "  text-decoration: none;\n",
              "}\n",
              "\n",
              "div.sk-estimator.fitted:hover .sk-estimator-doc-link.fitted:hover,\n",
              ".sk-estimator-doc-link.fitted:hover,\n",
              "div.sk-label-container:hover .sk-estimator-doc-link.fitted:hover,\n",
              ".sk-estimator-doc-link.fitted:hover {\n",
              "  /* fitted */\n",
              "  background-color: var(--sklearn-color-fitted-level-3);\n",
              "  color: var(--sklearn-color-background);\n",
              "  text-decoration: none;\n",
              "}\n",
              "\n",
              "/* Span, style for the box shown on hovering the info icon */\n",
              ".sk-estimator-doc-link span {\n",
              "  display: none;\n",
              "  z-index: 9999;\n",
              "  position: relative;\n",
              "  font-weight: normal;\n",
              "  right: .2ex;\n",
              "  padding: .5ex;\n",
              "  margin: .5ex;\n",
              "  width: min-content;\n",
              "  min-width: 20ex;\n",
              "  max-width: 50ex;\n",
              "  color: var(--sklearn-color-text);\n",
              "  box-shadow: 2pt 2pt 4pt #999;\n",
              "  /* unfitted */\n",
              "  background: var(--sklearn-color-unfitted-level-0);\n",
              "  border: .5pt solid var(--sklearn-color-unfitted-level-3);\n",
              "}\n",
              "\n",
              ".sk-estimator-doc-link.fitted span {\n",
              "  /* fitted */\n",
              "  background: var(--sklearn-color-fitted-level-0);\n",
              "  border: var(--sklearn-color-fitted-level-3);\n",
              "}\n",
              "\n",
              ".sk-estimator-doc-link:hover span {\n",
              "  display: block;\n",
              "}\n",
              "\n",
              "/* \"?\"-specific style due to the `<a>` HTML tag */\n",
              "\n",
              "#sk-container-id-2 a.estimator_doc_link {\n",
              "  float: right;\n",
              "  font-size: 1rem;\n",
              "  line-height: 1em;\n",
              "  font-family: monospace;\n",
              "  background-color: var(--sklearn-color-background);\n",
              "  border-radius: 1rem;\n",
              "  height: 1rem;\n",
              "  width: 1rem;\n",
              "  text-decoration: none;\n",
              "  /* unfitted */\n",
              "  color: var(--sklearn-color-unfitted-level-1);\n",
              "  border: var(--sklearn-color-unfitted-level-1) 1pt solid;\n",
              "}\n",
              "\n",
              "#sk-container-id-2 a.estimator_doc_link.fitted {\n",
              "  /* fitted */\n",
              "  border: var(--sklearn-color-fitted-level-1) 1pt solid;\n",
              "  color: var(--sklearn-color-fitted-level-1);\n",
              "}\n",
              "\n",
              "/* On hover */\n",
              "#sk-container-id-2 a.estimator_doc_link:hover {\n",
              "  /* unfitted */\n",
              "  background-color: var(--sklearn-color-unfitted-level-3);\n",
              "  color: var(--sklearn-color-background);\n",
              "  text-decoration: none;\n",
              "}\n",
              "\n",
              "#sk-container-id-2 a.estimator_doc_link.fitted:hover {\n",
              "  /* fitted */\n",
              "  background-color: var(--sklearn-color-fitted-level-3);\n",
              "}\n",
              "</style><div id=\"sk-container-id-2\" class=\"sk-top-container\"><div class=\"sk-text-repr-fallback\"><pre>MLPRegressor(hidden_layer_sizes=(10, 10, 10), max_iter=500)</pre><b>In a Jupyter environment, please rerun this cell to show the HTML representation or trust the notebook. <br />On GitHub, the HTML representation is unable to render, please try loading this page with nbviewer.org.</b></div><div class=\"sk-container\" hidden><div class=\"sk-item\"><div class=\"sk-estimator fitted sk-toggleable\"><input class=\"sk-toggleable__control sk-hidden--visually\" id=\"sk-estimator-id-2\" type=\"checkbox\" checked><label for=\"sk-estimator-id-2\" class=\"sk-toggleable__label fitted sk-toggleable__label-arrow\"><div><div>MLPRegressor</div></div><div><a class=\"sk-estimator-doc-link fitted\" rel=\"noreferrer\" target=\"_blank\" href=\"https://scikit-learn.org/1.6/modules/generated/sklearn.neural_network.MLPRegressor.html\">?<span>Documentation for MLPRegressor</span></a><span class=\"sk-estimator-doc-link fitted\">i<span>Fitted</span></span></div></label><div class=\"sk-toggleable__content fitted\"><pre>MLPRegressor(hidden_layer_sizes=(10, 10, 10), max_iter=500)</pre></div> </div></div></div></div>"
            ]
          },
          "metadata": {},
          "execution_count": 49
        }
      ],
      "source": [
        "np.random.seed(1234)\n",
        "mlp = MLPRegressor(hidden_layer_sizes=(10,10,10), max_iter=500)\n",
        "mlp.fit(X_train,y_train)\n"
      ]
    },
    {
      "cell_type": "markdown",
      "metadata": {
        "id": "iHOSc-3Kinbs"
      },
      "source": [
        "El modelo no se va a reentrenar con los datos del test set."
      ]
    },
    {
      "cell_type": "code",
      "execution_count": 50,
      "metadata": {
        "id": "C6S60w0sinbs",
        "outputId": "5f18886a-ca1d-4308-bd1a-ef45c838a375",
        "colab": {
          "base_uri": "https://localhost:8080/"
        }
      },
      "outputs": [
        {
          "output_type": "stream",
          "name": "stdout",
          "text": [
            "RMSE: 16.646911186419043 , MAE: 14.662016168909082 , R2: 0.9499736363083785 \n",
            "\n"
          ]
        }
      ],
      "source": [
        "y_pred = mlp.predict(X_test)\n",
        "print(\"RMSE:\", sqrt(mean_squared_error(y_test, y_pred)), \", MAE:\", mean_absolute_error(y_test, y_pred), \", R2:\", r2_score(y_test, y_pred), \"\\n\")"
      ]
    },
    {
      "cell_type": "code",
      "execution_count": 51,
      "metadata": {
        "id": "_lgIJ-2hinbt",
        "outputId": "c13290f5-3b2f-46e5-82a4-fee6dbc9f417",
        "colab": {
          "base_uri": "https://localhost:8080/"
        }
      },
      "outputs": [
        {
          "output_type": "execute_result",
          "data": {
            "text/plain": [
              "array([405.3286437 , 410.69065059, 444.58854674, 451.81995236,\n",
              "       458.62932856, 523.37503406, 617.28834238, 619.92856425,\n",
              "       518.86281294, 435.45174385, 417.50446503, 434.26219939])"
            ]
          },
          "metadata": {},
          "execution_count": 51
        }
      ],
      "source": [
        "y_pred"
      ]
    },
    {
      "cell_type": "markdown",
      "metadata": {
        "id": "XYEkN51Cinbt"
      },
      "source": [
        "Visualicemos los datos"
      ]
    },
    {
      "cell_type": "code",
      "execution_count": 52,
      "metadata": {
        "id": "DGXp2A5Ninbt",
        "outputId": "301dd8db-8a54-4ae7-f9da-15e6a11e4369",
        "colab": {
          "base_uri": "https://localhost:8080/",
          "height": 531
        }
      },
      "outputs": [
        {
          "output_type": "display_data",
          "data": {
            "text/plain": [
              "<Figure size 1200x500 with 1 Axes>"
            ],
            "image/png": "[encoded data removed]"
          },
          "metadata": {}
        }
      ],
      "source": [
        "plt.figure(figsize=(12,5))\n",
        "ax = plt.gca() # get current axis\n",
        "plt.plot(meses_train, y_train, label=\"training\")\n",
        "plt.plot(meses_test, y_test, c=\"g\", label=\"test real\")\n",
        "plt.plot(meses_test, y_pred, c=\"r\", label=\"test pronóstico\")\n",
        "plt.xlabel('Mes')\n",
        "plt.ylabel('Número de pasajeros')\n",
        "plt.title('Evolución del número de pasajeros - pronóstico puntual')\n",
        "plt.legend()\n",
        "plt.xticks(np.arange(0,132,12), rotation=90)\n",
        "plt.show()"
      ]
    },
    {
      "cell_type": "markdown",
      "metadata": {
        "id": "k92UQXFhinbt"
      },
      "source": [
        "### 3.2 Estimación de un paso, entrenando con un subconjunto fijo de datos, con pronóstico auto regresivo acumulado"
      ]
    },
    {
      "cell_type": "markdown",
      "metadata": {
        "id": "QCgtRFy1inbu"
      },
      "source": [
        "En el punto anterior, se hacía una predicción puntual de un único valor futuro.\n",
        "Muchas veces se quiere tener una predicción de más de un valor futuro.\n",
        "\n",
        "La idea con este segundo caso es ponerse en la situación de negocio en la que en cada paso de tiempo **se necesita predecir un periodo futuro compuesto por varios valores predichos**.\n",
        "Al tener un modelo con una única neurona de salida, es necesario realizar varias predicciones de manera iterativa auto-regresiva.\n",
        "Para esto se considerarán valores anteriormente predichos dentro le ventana histórica para pronosticar los siguientes valores.\n",
        "Para predecir t+1, se necesitan los valores reales conocidos t-11 hasta t; para predecir t+2, se necesitan los valores reales t-10 hasta t, además del valor predicho t+1; y así, sucesivamente."
      ]
    },
    {
      "cell_type": "markdown",
      "metadata": {
        "id": "TTY4LBAcinbu"
      },
      "source": [
        "<span style=\"color: red;\">Puntos a desarrollar:</span>\n",
        "- <span style=\"color: red;\">Entrene un modelo sobre los primeros `periodos_train` datos de entrenamiento. Pueden utilizar la función `numpy.roll()`</span>\n",
        "- <span style=\"color: red;\">Itere sobre los 12 datos reales del test set  y para cada uno de ellos infiera el valor futuro predicho.</span>\n",
        "- <span style=\"color: red;\">Calcule el RMSE, MAE y R2 de la predicción.</span>\n",
        "- <span style=\"color: red;\">Grafique la serie de entrenamiento, la de test, y los valores predichos.</span>\n"
      ]
    },
    {
      "cell_type": "code",
      "source": [],
      "metadata": {
        "id": "51GQ1LpklnUt"
      },
      "execution_count": 52,
      "outputs": []
    },
    {
      "cell_type": "markdown",
      "metadata": {
        "id": "HMpfa5tJinbu"
      },
      "source": [
        "### 3.3 Estimación de un paso, reentrenando con un subconjunto móvil de datos de largo fijo"
      ]
    },
    {
      "cell_type": "markdown",
      "metadata": {
        "id": "6mylIZk0inbu"
      },
      "source": [
        "Este caso es análogo al primero, **cada paso de tiempo se necesita predecir lo que va a pasar el paso de tiempo siguiente, con nuevo modelo sobre ventana móvil de datos**, la diferencia está en el hecho de que cada que se conozca un nuevo dato real, se va a utilizar un \"nuevo\" modelo que se  reentrena \"desde cero\" con una ventana móvil de tamaño fijo compuesta por los últimos 120 datos ya conocidos."
      ]
    },
    {
      "cell_type": "markdown",
      "metadata": {
        "id": "sVdXgDyyinbu"
      },
      "source": [
        "<span style=\"color: red;\">Puntos a desarrollar:</span>\n",
        "- <span style=\"color: red;\">Cree un ciclo iterativo en el que avance sobre el periodo de test. Establezca una ventana móvil de los últimos 120 datos reales y con ella entrene un nuevo modelo, y prediga el siguiente valor.</span>\n",
        "- <span style=\"color: red;\">Calcule el RMSE, MAE y R2 de los 12 datos predichos.</span>\n",
        "- <span style=\"color: red;\">Grafique la serie de entrenamiento, la de test, y los valores predichos.</span>"
      ]
    },
    {
      "cell_type": "markdown",
      "metadata": {
        "id": "d1s8BKnGinbv"
      },
      "source": [
        "### 3.4 Estimación de un paso, reentrenando con un subconjunto móvil de datos de largo acumulado"
      ]
    },
    {
      "cell_type": "markdown",
      "metadata": {
        "id": "2Q1JmAYwinbv"
      },
      "source": [
        "Este caso es análogo al primero, **cada paso de tiempo se necesita predecir lo que va a pasar el paso de tiempo siguiente, con nuevo modelo sobre ventana móvil acumulada**, cada que se conozca un nuevo dato real, se va a utilizar un \"nuevo\" modelo que se reentrena \"desde cero\" con un conjunto de datos reales de entrenamiento cada vez más grande.\n",
        "Esto puede eventualmente (aunque no necesariamente) tener efectos positivos en el performance del modelo."
      ]
    },
    {
      "cell_type": "markdown",
      "metadata": {
        "id": "sb0xO1exinbv"
      },
      "source": [
        "<span style=\"color: red;\">Puntos a desarrollar:</span>\n",
        "- <span style=\"color: red;\">Cree un ciclo iterativo en el que avance sobre el periodo de test. Establezca una ventana histpórica con todos los últimos datos reales (cada iteración será un datos más grande) y con ella entrene un nuevo modelo, y prediga el siguiente valor.</span>\n",
        "- <span style=\"color: red;\">Calcule el RMSE, MAE y R2 de los 12 datos predichos.</span>\n",
        "- <span style=\"color: red;\">Grafique la serie de entrenamiento, la de test, y los valores predichos.</span>"
      ]
    },
    {
      "cell_type": "markdown",
      "metadata": {
        "id": "p2ogpsTrinbv"
      },
      "source": [
        "### 3.5 Repetir los cuatro casos anteriores en PyTorch"
      ]
    },
    {
      "cell_type": "markdown",
      "metadata": {
        "id": "q8-mpxR2inbw"
      },
      "source": [
        "<span style=\"color: red;\">Puntos a desarrollar:</span>\n",
        "- <span style=\"color: red;\">Crear las clases `Dataset` y `Dataloader` correspondientes a cada caso.</span>\n",
        "- <span style=\"color: red;\">Crear el modelo en PyTorch.</span>\n",
        "- <span style=\"color: red;\">Calcule el RMSE, MAE y R2 de los 12 datos predichos.</span>\n",
        "- <span style=\"color: red;\">Grafique la serie de entrenamiento, la de test, y los valores predichos.</span>"
      ]
    },
    {
      "cell_type": "code",
      "execution_count": 52,
      "metadata": {
        "id": "_ZBXKZIIinbw"
      },
      "outputs": [],
      "source": []
    }
  ],
  "metadata": {
    "kernelspec": {
      "display_name": "Python 3 (ipykernel)",
      "language": "python",
      "name": "python3"
    },
    "language_info": {
      "codemirror_mode": {
        "name": "ipython",
        "version": 3
      },
      "file_extension": ".py",
      "mimetype": "text/x-python",
      "name": "python",
      "nbconvert_exporter": "python",
      "pygments_lexer": "ipython3",
      "version": "3.12.3"
    },
    "colab": {
      "provenance": [],
      "include_colab_link": true
    }
  },
  "nbformat": 4,
  "nbformat_minor": 0
}